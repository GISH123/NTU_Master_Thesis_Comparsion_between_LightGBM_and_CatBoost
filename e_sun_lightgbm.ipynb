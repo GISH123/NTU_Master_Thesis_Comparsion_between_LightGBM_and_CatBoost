{
 "cells": [
  {
   "cell_type": "code",
   "execution_count": 1,
   "metadata": {},
   "outputs": [],
   "source": [
    "import pandas as pd\n",
    "\n",
    "all_train = pd.read_csv('./data/esun/train.csv')  "
   ]
  },
  {
   "cell_type": "code",
   "execution_count": 2,
   "metadata": {},
   "outputs": [],
   "source": [
    "#Self train/test split, train = past 60 days data, test = last 30 days data\n",
    "\n",
    "train = all_train[all_train['locdt']<=60]\n",
    "test = all_train[all_train['locdt']>60]  \n",
    "\n",
    "test_id = test['txkey']\n",
    "del train['txkey']\n",
    "del test['txkey']"
   ]
  },
  {
   "cell_type": "code",
   "execution_count": null,
   "metadata": {},
   "outputs": [],
   "source": []
  },
  {
   "cell_type": "markdown",
   "metadata": {},
   "source": [
    "# Preprocessing"
   ]
  },
  {
   "cell_type": "markdown",
   "metadata": {},
   "source": [
    "missing value"
   ]
  },
  {
   "cell_type": "code",
   "execution_count": 3,
   "metadata": {},
   "outputs": [
    {
     "name": "stderr",
     "output_type": "stream",
     "text": [
      "C:\\Users\\willy\\anaconda3\\lib\\site-packages\\pandas\\core\\frame.py:2963: SettingWithCopyWarning: \n",
      "A value is trying to be set on a copy of a slice from a DataFrame.\n",
      "Try using .loc[row_indexer,col_indexer] = value instead\n",
      "\n",
      "See the caveats in the documentation: https://pandas.pydata.org/pandas-docs/stable/user_guide/indexing.html#returning-a-view-versus-a-copy\n",
      "  self[k1] = value[k2]\n"
     ]
    }
   ],
   "source": [
    "#categorical\n",
    "train[['flbmk', 'flg_3dsmk']] = train[['flbmk', 'flg_3dsmk']].fillna(value='Missing')\n",
    "test[['flbmk', 'flg_3dsmk']] = test[['flbmk', 'flg_3dsmk']].fillna(value='Missing')"
   ]
  },
  {
   "cell_type": "code",
   "execution_count": null,
   "metadata": {},
   "outputs": [],
   "source": []
  },
  {
   "cell_type": "code",
   "execution_count": 4,
   "metadata": {},
   "outputs": [],
   "source": [
    "def change_column_dtype_to_object(name): \n",
    "    train[name] = train[name].astype('object')\n",
    "    test[name] = test[name].astype('object')"
   ]
  },
  {
   "cell_type": "code",
   "execution_count": 5,
   "metadata": {},
   "outputs": [
    {
     "name": "stderr",
     "output_type": "stream",
     "text": [
      "C:\\Users\\willy\\anaconda3\\lib\\site-packages\\ipykernel_launcher.py:2: SettingWithCopyWarning: \n",
      "A value is trying to be set on a copy of a slice from a DataFrame.\n",
      "Try using .loc[row_indexer,col_indexer] = value instead\n",
      "\n",
      "See the caveats in the documentation: https://pandas.pydata.org/pandas-docs/stable/user_guide/indexing.html#returning-a-view-versus-a-copy\n",
      "  \n",
      "C:\\Users\\willy\\anaconda3\\lib\\site-packages\\ipykernel_launcher.py:3: SettingWithCopyWarning: \n",
      "A value is trying to be set on a copy of a slice from a DataFrame.\n",
      "Try using .loc[row_indexer,col_indexer] = value instead\n",
      "\n",
      "See the caveats in the documentation: https://pandas.pydata.org/pandas-docs/stable/user_guide/indexing.html#returning-a-view-versus-a-copy\n",
      "  This is separate from the ipykernel package so we can avoid doing imports until\n"
     ]
    }
   ],
   "source": [
    "change_column_dtype_to_object(\"acqic\")\n",
    "change_column_dtype_to_object(\"bacno\")\n",
    "change_column_dtype_to_object(\"cano\")\n",
    "change_column_dtype_to_object(\"contp\")\n",
    "change_column_dtype_to_object(\"csmcu\")\n",
    "change_column_dtype_to_object(\"etymd\")\n",
    "change_column_dtype_to_object(\"hcefg\")\n",
    "change_column_dtype_to_object(\"mcc\")\n",
    "change_column_dtype_to_object(\"mchno\")\n",
    "change_column_dtype_to_object(\"scity\")\n",
    "change_column_dtype_to_object(\"stocn\")\n",
    "change_column_dtype_to_object(\"stscd\")"
   ]
  },
  {
   "cell_type": "code",
   "execution_count": 6,
   "metadata": {},
   "outputs": [],
   "source": [
    "# TODO : locdt cant use? delete?\n",
    "# locdm either delete or change to something else, need preprocess, it represents HH:MM:SS\n",
    "del train['loctm']\n",
    "del test['loctm']"
   ]
  },
  {
   "cell_type": "markdown",
   "metadata": {},
   "source": [
    "## Categorical column encoding"
   ]
  },
  {
   "cell_type": "code",
   "execution_count": 7,
   "metadata": {
    "scrolled": true
   },
   "outputs": [],
   "source": [
    "import numpy as np"
   ]
  },
  {
   "cell_type": "code",
   "execution_count": 8,
   "metadata": {},
   "outputs": [],
   "source": [
    "cat_col_list = train.dtypes[train.dtypes == object].index.tolist()"
   ]
  },
  {
   "cell_type": "markdown",
   "metadata": {},
   "source": [
    "# Unseen test categorical column values\n",
    "solution: https://stackoverflow.com/questions/21057621/sklearn-labelencoder-with-never-seen-before-values\n",
    "\n",
    "Too slow for this particular dataset, I'll use another method"
   ]
  },
  {
   "cell_type": "markdown",
   "metadata": {},
   "source": [
    "Manual label encoding,runs much faster"
   ]
  },
  {
   "cell_type": "code",
   "execution_count": 9,
   "metadata": {},
   "outputs": [
    {
     "name": "stdout",
     "output_type": "stream",
     "text": [
      "processing acqic\n"
     ]
    },
    {
     "name": "stderr",
     "output_type": "stream",
     "text": [
      "C:\\Users\\willy\\anaconda3\\lib\\site-packages\\ipykernel_launcher.py:15: SettingWithCopyWarning: \n",
      "A value is trying to be set on a copy of a slice from a DataFrame.\n",
      "Try using .loc[row_indexer,col_indexer] = value instead\n",
      "\n",
      "See the caveats in the documentation: https://pandas.pydata.org/pandas-docs/stable/user_guide/indexing.html#returning-a-view-versus-a-copy\n",
      "  from ipykernel import kernelapp as app\n",
      "C:\\Users\\willy\\anaconda3\\lib\\site-packages\\ipykernel_launcher.py:16: SettingWithCopyWarning: \n",
      "A value is trying to be set on a copy of a slice from a DataFrame.\n",
      "Try using .loc[row_indexer,col_indexer] = value instead\n",
      "\n",
      "See the caveats in the documentation: https://pandas.pydata.org/pandas-docs/stable/user_guide/indexing.html#returning-a-view-versus-a-copy\n",
      "  app.launch_new_instance()\n"
     ]
    },
    {
     "name": "stdout",
     "output_type": "stream",
     "text": [
      "processing bacno\n",
      "processing cano\n",
      "processing contp\n",
      "processing csmcu\n",
      "processing ecfg\n",
      "processing etymd\n",
      "processing flbmk\n",
      "processing flg_3dsmk\n",
      "processing hcefg\n",
      "processing insfg\n",
      "processing mcc\n",
      "processing mchno\n",
      "processing ovrlt\n",
      "processing scity\n",
      "processing stocn\n",
      "processing stscd\n"
     ]
    }
   ],
   "source": [
    "# Manual label encoding,runs much faster\n",
    "\n",
    "cat_col_ref_dict = dict()\n",
    "for i in cat_col_list:\n",
    "    #get unique values in the column to encode\n",
    "    print(\"processing %s\" % i)\n",
    "    values = train[i].value_counts().index.tolist()\n",
    "\n",
    "    # create a dictionary of values and corresponding number {value, number}\n",
    "    dict_values = {value: count for value, count in zip(values, range(1,len(values)+1))}\n",
    "    # save the values to encode in the dictionary\n",
    "    cat_col_ref_dict[i] = dict_values\n",
    "\n",
    "    # replace the values with the corresponding number from the dictionary\n",
    "    train[i] = train[i].map(lambda x: dict_values.get(x))\n",
    "    test[i] = test[i].map(lambda x: dict_values.get(x, 0 )) # add default unseen value = 0"
   ]
  },
  {
   "cell_type": "code",
   "execution_count": 10,
   "metadata": {
    "scrolled": true
   },
   "outputs": [],
   "source": [
    "# test[test['mchno']==0]"
   ]
  },
  {
   "cell_type": "code",
   "execution_count": 11,
   "metadata": {
    "scrolled": true
   },
   "outputs": [
    {
     "name": "stderr",
     "output_type": "stream",
     "text": [
      "C:\\Users\\willy\\anaconda3\\lib\\site-packages\\ipykernel_launcher.py:4: SettingWithCopyWarning: \n",
      "A value is trying to be set on a copy of a slice from a DataFrame.\n",
      "Try using .loc[row_indexer,col_indexer] = value instead\n",
      "\n",
      "See the caveats in the documentation: https://pandas.pydata.org/pandas-docs/stable/user_guide/indexing.html#returning-a-view-versus-a-copy\n",
      "  after removing the cwd from sys.path.\n",
      "C:\\Users\\willy\\anaconda3\\lib\\site-packages\\ipykernel_launcher.py:5: SettingWithCopyWarning: \n",
      "A value is trying to be set on a copy of a slice from a DataFrame.\n",
      "Try using .loc[row_indexer,col_indexer] = value instead\n",
      "\n",
      "See the caveats in the documentation: https://pandas.pydata.org/pandas-docs/stable/user_guide/indexing.html#returning-a-view-versus-a-copy\n",
      "  \"\"\"\n"
     ]
    }
   ],
   "source": [
    "#making sure those cateogrical variables are dtype \"category\"\n",
    "#and use label encoding\n",
    "for col in cat_col_list:\n",
    "    train[col] = train[col].astype('category')\n",
    "    test[col] = test[col].astype('category')"
   ]
  },
  {
   "cell_type": "markdown",
   "metadata": {},
   "source": [
    "# Modeling"
   ]
  },
  {
   "cell_type": "code",
   "execution_count": 12,
   "metadata": {},
   "outputs": [],
   "source": [
    "import pandas as pd\n",
    "import numpy as np\n",
    "pd.set_option('display.max_columns', 500) "
   ]
  },
  {
   "cell_type": "code",
   "execution_count": 13,
   "metadata": {},
   "outputs": [],
   "source": [
    "X = train.drop(['fraud_ind'], axis=1)\n",
    "y = train[['fraud_ind']]"
   ]
  },
  {
   "cell_type": "code",
   "execution_count": 14,
   "metadata": {},
   "outputs": [],
   "source": [
    "from sklearn.model_selection import train_test_split\n",
    "\n",
    "X_train, X_val, y_train, y_val = train_test_split(X, y, train_size=0.75, random_state=1337,stratify=y)"
   ]
  },
  {
   "cell_type": "code",
   "execution_count": 15,
   "metadata": {},
   "outputs": [],
   "source": [
    "import numpy as np\n",
    "import lightgbm as lgb"
   ]
  },
  {
   "cell_type": "code",
   "execution_count": 16,
   "metadata": {},
   "outputs": [],
   "source": [
    "lgb_train = lgb.Dataset(X_train, y_train,\n",
    "                        free_raw_data=False)\n",
    "lgb_eval = lgb.Dataset(X_val, y_val, reference=lgb_train,\n",
    "                        free_raw_data=False)"
   ]
  },
  {
   "cell_type": "code",
   "execution_count": 17,
   "metadata": {},
   "outputs": [],
   "source": [
    "num_train, num_feature = X_train.shape"
   ]
  },
  {
   "cell_type": "code",
   "execution_count": 18,
   "metadata": {},
   "outputs": [],
   "source": [
    "# generate feature names\n",
    "# feature_name = ['feature_' + str(col) for col in range(num_feature)]\n",
    "feature_name = X_train.columns.tolist()"
   ]
  },
  {
   "cell_type": "code",
   "execution_count": 19,
   "metadata": {
    "scrolled": true
   },
   "outputs": [],
   "source": [
    "categorical_features_indices = np.where(X.dtypes == \"category\")[0]"
   ]
  },
  {
   "cell_type": "code",
   "execution_count": 20,
   "metadata": {},
   "outputs": [
    {
     "data": {
      "text/plain": [
       "array([ 0,  1,  2,  4,  5,  6,  7,  8,  9, 10, 11, 14, 15, 16, 17, 18, 19],\n",
       "      dtype=int64)"
      ]
     },
     "execution_count": 20,
     "metadata": {},
     "output_type": "execute_result"
    }
   ],
   "source": [
    "categorical_features_indices"
   ]
  },
  {
   "cell_type": "code",
   "execution_count": 21,
   "metadata": {},
   "outputs": [],
   "source": [
    "# specify your configurations as a dict\n",
    "params = {\n",
    "    'boosting_type': 'gbdt',\n",
    "    'objective': 'binary',\n",
    "    'metric': 'binary_logloss',\n",
    "    'early_stopping_rounds' : 100,\n",
    "#     'num_leaves': 31,\n",
    "#     'learning_rate': 0.05,\n",
    "#     'feature_fraction': 0.9,\n",
    "#     'bagging_fraction': 0.8,\n",
    "#     'bagging_freq': 5,\n",
    "    'verbose': 0\n",
    "}"
   ]
  },
  {
   "cell_type": "code",
   "execution_count": 22,
   "metadata": {},
   "outputs": [],
   "source": [
    "evals_result = {}  # to record eval results for plotting"
   ]
  },
  {
   "cell_type": "code",
   "execution_count": 23,
   "metadata": {
    "scrolled": true
   },
   "outputs": [
    {
     "name": "stdout",
     "output_type": "stream",
     "text": [
      "Starting training...\n"
     ]
    },
    {
     "name": "stderr",
     "output_type": "stream",
     "text": [
      "C:\\Users\\willy\\anaconda3\\lib\\site-packages\\lightgbm\\engine.py:153: UserWarning: Found `early_stopping_rounds` in params. Will use it instead of argument\n",
      "  warnings.warn(\"Found `{}` in params. Will use it instead of argument\".format(alias))\n",
      "C:\\Users\\willy\\anaconda3\\lib\\site-packages\\lightgbm\\basic.py:1295: UserWarning: categorical_feature in Dataset is overridden.\n",
      "New categorical_feature is [0, 1, 2, 4, 5, 6, 7, 8, 9, 10, 11, 14, 15, 16, 17, 18, 19]\n",
      "  'New categorical_feature is {}'.format(sorted(list(categorical_feature))))\n"
     ]
    },
    {
     "name": "stdout",
     "output_type": "stream",
     "text": [
      "[1]\tvalid_0's binary_logloss: 0.0499158\n",
      "Training until validation scores don't improve for 100 rounds\n",
      "[2]\tvalid_0's binary_logloss: 0.0462975\n",
      "[3]\tvalid_0's binary_logloss: 0.0436959\n",
      "[4]\tvalid_0's binary_logloss: 0.0414526\n",
      "[5]\tvalid_0's binary_logloss: 0.0396214\n",
      "[6]\tvalid_0's binary_logloss: 0.0381047\n",
      "[7]\tvalid_0's binary_logloss: 0.0367775\n",
      "[8]\tvalid_0's binary_logloss: 0.0355631\n",
      "[9]\tvalid_0's binary_logloss: 0.0344444\n",
      "[10]\tvalid_0's binary_logloss: 0.0335391\n",
      "[11]\tvalid_0's binary_logloss: 0.0326754\n",
      "[12]\tvalid_0's binary_logloss: 0.0319575\n",
      "[13]\tvalid_0's binary_logloss: 0.031267\n",
      "[14]\tvalid_0's binary_logloss: 0.0306759\n",
      "[15]\tvalid_0's binary_logloss: 0.0301644\n",
      "[16]\tvalid_0's binary_logloss: 0.0296942\n",
      "[17]\tvalid_0's binary_logloss: 0.029303\n",
      "[18]\tvalid_0's binary_logloss: 0.0289177\n",
      "[19]\tvalid_0's binary_logloss: 0.0285712\n",
      "[20]\tvalid_0's binary_logloss: 0.0282655\n",
      "[21]\tvalid_0's binary_logloss: 0.0279968\n",
      "[22]\tvalid_0's binary_logloss: 0.0276935\n",
      "[23]\tvalid_0's binary_logloss: 0.027464\n",
      "[24]\tvalid_0's binary_logloss: 0.0272161\n",
      "[25]\tvalid_0's binary_logloss: 0.0268703\n",
      "[26]\tvalid_0's binary_logloss: 0.0266846\n",
      "[27]\tvalid_0's binary_logloss: 0.0264901\n",
      "[28]\tvalid_0's binary_logloss: 0.0263364\n",
      "[29]\tvalid_0's binary_logloss: 0.0262006\n",
      "[30]\tvalid_0's binary_logloss: 0.0261647\n",
      "[31]\tvalid_0's binary_logloss: 0.0258818\n",
      "[32]\tvalid_0's binary_logloss: 0.0256944\n",
      "[33]\tvalid_0's binary_logloss: 0.0255226\n",
      "[34]\tvalid_0's binary_logloss: 0.0254126\n",
      "[35]\tvalid_0's binary_logloss: 0.0252969\n",
      "[36]\tvalid_0's binary_logloss: 0.02519\n",
      "[37]\tvalid_0's binary_logloss: 0.0250701\n",
      "[38]\tvalid_0's binary_logloss: 0.0249504\n",
      "[39]\tvalid_0's binary_logloss: 0.0248393\n",
      "[40]\tvalid_0's binary_logloss: 0.024751\n",
      "[41]\tvalid_0's binary_logloss: 0.024659\n",
      "[42]\tvalid_0's binary_logloss: 0.0245796\n",
      "[43]\tvalid_0's binary_logloss: 0.0244947\n",
      "[44]\tvalid_0's binary_logloss: 0.024421\n",
      "[45]\tvalid_0's binary_logloss: 0.0243273\n",
      "[46]\tvalid_0's binary_logloss: 0.024573\n",
      "[47]\tvalid_0's binary_logloss: 0.0242754\n",
      "[48]\tvalid_0's binary_logloss: 0.0241961\n",
      "[49]\tvalid_0's binary_logloss: 0.0241473\n",
      "[50]\tvalid_0's binary_logloss: 0.0241001\n",
      "[51]\tvalid_0's binary_logloss: 0.0240524\n",
      "[52]\tvalid_0's binary_logloss: 0.0240109\n",
      "[53]\tvalid_0's binary_logloss: 0.0239684\n",
      "[54]\tvalid_0's binary_logloss: 0.0239198\n",
      "[55]\tvalid_0's binary_logloss: 0.0238755\n",
      "[56]\tvalid_0's binary_logloss: 0.0238562\n",
      "[57]\tvalid_0's binary_logloss: 0.0237976\n",
      "[58]\tvalid_0's binary_logloss: 0.0237686\n",
      "[59]\tvalid_0's binary_logloss: 0.0237305\n",
      "[60]\tvalid_0's binary_logloss: 0.0236882\n",
      "[61]\tvalid_0's binary_logloss: 0.0236517\n",
      "[62]\tvalid_0's binary_logloss: 0.0236734\n",
      "[63]\tvalid_0's binary_logloss: 0.0237928\n",
      "[64]\tvalid_0's binary_logloss: 0.0240888\n",
      "[65]\tvalid_0's binary_logloss: 0.0241112\n",
      "[66]\tvalid_0's binary_logloss: 0.0237973\n",
      "[67]\tvalid_0's binary_logloss: 0.0237699\n",
      "[68]\tvalid_0's binary_logloss: 0.0237223\n",
      "[69]\tvalid_0's binary_logloss: 0.0236684\n",
      "[70]\tvalid_0's binary_logloss: 0.0236397\n",
      "[71]\tvalid_0's binary_logloss: 0.0235868\n",
      "[72]\tvalid_0's binary_logloss: 0.0235538\n",
      "[73]\tvalid_0's binary_logloss: 0.0235362\n",
      "[74]\tvalid_0's binary_logloss: 0.0235246\n",
      "[75]\tvalid_0's binary_logloss: 0.0234841\n",
      "[76]\tvalid_0's binary_logloss: 0.0234392\n",
      "[77]\tvalid_0's binary_logloss: 0.0234094\n",
      "[78]\tvalid_0's binary_logloss: 0.0233911\n",
      "[79]\tvalid_0's binary_logloss: 0.0233778\n",
      "[80]\tvalid_0's binary_logloss: 0.0233499\n",
      "[81]\tvalid_0's binary_logloss: 0.023325\n",
      "[82]\tvalid_0's binary_logloss: 0.0232993\n",
      "[83]\tvalid_0's binary_logloss: 0.0232707\n",
      "[84]\tvalid_0's binary_logloss: 0.0232214\n",
      "[85]\tvalid_0's binary_logloss: 0.0231671\n",
      "[86]\tvalid_0's binary_logloss: 0.0231496\n",
      "[87]\tvalid_0's binary_logloss: 0.0231339\n",
      "[88]\tvalid_0's binary_logloss: 0.023112\n",
      "[89]\tvalid_0's binary_logloss: 0.0230695\n",
      "[90]\tvalid_0's binary_logloss: 0.0230619\n",
      "[91]\tvalid_0's binary_logloss: 0.0230234\n",
      "[92]\tvalid_0's binary_logloss: 0.0229951\n",
      "[93]\tvalid_0's binary_logloss: 0.0229717\n",
      "[94]\tvalid_0's binary_logloss: 0.0229385\n",
      "[95]\tvalid_0's binary_logloss: 0.0228971\n",
      "[96]\tvalid_0's binary_logloss: 0.0228696\n",
      "[97]\tvalid_0's binary_logloss: 0.0230244\n",
      "[98]\tvalid_0's binary_logloss: 0.0230149\n",
      "[99]\tvalid_0's binary_logloss: 0.0229426\n",
      "[100]\tvalid_0's binary_logloss: 0.0229327\n",
      "[101]\tvalid_0's binary_logloss: 0.0229072\n",
      "[102]\tvalid_0's binary_logloss: 0.0228638\n",
      "[103]\tvalid_0's binary_logloss: 0.0228785\n",
      "[104]\tvalid_0's binary_logloss: 0.0238953\n",
      "[105]\tvalid_0's binary_logloss: 0.0229335\n",
      "[106]\tvalid_0's binary_logloss: 0.02289\n",
      "[107]\tvalid_0's binary_logloss: 0.022861\n",
      "[108]\tvalid_0's binary_logloss: 0.0228469\n",
      "[109]\tvalid_0's binary_logloss: 0.023566\n",
      "[110]\tvalid_0's binary_logloss: 0.0228831\n",
      "[111]\tvalid_0's binary_logloss: 0.0228657\n",
      "[112]\tvalid_0's binary_logloss: 0.0228517\n",
      "[113]\tvalid_0's binary_logloss: 0.0228412\n",
      "[114]\tvalid_0's binary_logloss: 0.0228313\n",
      "[115]\tvalid_0's binary_logloss: 0.0228093\n",
      "[116]\tvalid_0's binary_logloss: 0.0227973\n",
      "[117]\tvalid_0's binary_logloss: 0.0236801\n",
      "[118]\tvalid_0's binary_logloss: 0.0235559\n",
      "[119]\tvalid_0's binary_logloss: 0.0235253\n",
      "[120]\tvalid_0's binary_logloss: 0.0235117\n",
      "[121]\tvalid_0's binary_logloss: 0.0234822\n",
      "[122]\tvalid_0's binary_logloss: 0.0234657\n",
      "[123]\tvalid_0's binary_logloss: 0.0234566\n",
      "[124]\tvalid_0's binary_logloss: 0.0234441\n",
      "[125]\tvalid_0's binary_logloss: 0.023429\n",
      "[126]\tvalid_0's binary_logloss: 0.0234214\n",
      "[127]\tvalid_0's binary_logloss: 0.0234049\n",
      "[128]\tvalid_0's binary_logloss: 0.0246233\n",
      "[129]\tvalid_0's binary_logloss: 0.0244759\n",
      "[130]\tvalid_0's binary_logloss: 0.0243255\n",
      "[131]\tvalid_0's binary_logloss: 0.0243221\n",
      "[132]\tvalid_0's binary_logloss: 0.0243035\n",
      "[133]\tvalid_0's binary_logloss: 0.0242892\n",
      "[134]\tvalid_0's binary_logloss: 0.0242698\n",
      "[135]\tvalid_0's binary_logloss: 0.0255935\n",
      "[136]\tvalid_0's binary_logloss: 0.0243999\n",
      "[137]\tvalid_0's binary_logloss: 0.0243011\n",
      "[138]\tvalid_0's binary_logloss: 0.0242918\n",
      "[139]\tvalid_0's binary_logloss: 0.0242778\n",
      "[140]\tvalid_0's binary_logloss: 0.024268\n",
      "[141]\tvalid_0's binary_logloss: 0.0242493\n",
      "[142]\tvalid_0's binary_logloss: 0.0242609\n",
      "[143]\tvalid_0's binary_logloss: 0.0242407\n",
      "[144]\tvalid_0's binary_logloss: 0.0242277\n",
      "[145]\tvalid_0's binary_logloss: 0.0242151\n",
      "[146]\tvalid_0's binary_logloss: 0.0241994\n",
      "[147]\tvalid_0's binary_logloss: 0.0241938\n",
      "[148]\tvalid_0's binary_logloss: 0.0241837\n",
      "[149]\tvalid_0's binary_logloss: 0.0241586\n",
      "[150]\tvalid_0's binary_logloss: 0.0241477\n",
      "[151]\tvalid_0's binary_logloss: 0.0241298\n",
      "[152]\tvalid_0's binary_logloss: 0.024125\n",
      "[153]\tvalid_0's binary_logloss: 0.0242276\n",
      "[154]\tvalid_0's binary_logloss: 0.0252953\n",
      "[155]\tvalid_0's binary_logloss: 0.0240824\n",
      "[156]\tvalid_0's binary_logloss: 0.0240808\n",
      "[157]\tvalid_0's binary_logloss: 0.0240613\n",
      "[158]\tvalid_0's binary_logloss: 0.0240599\n",
      "[159]\tvalid_0's binary_logloss: 0.0240482\n",
      "[160]\tvalid_0's binary_logloss: 0.0240425\n",
      "[161]\tvalid_0's binary_logloss: 0.0240419\n",
      "[162]\tvalid_0's binary_logloss: 0.0240288\n",
      "[163]\tvalid_0's binary_logloss: 0.0240199\n",
      "[164]\tvalid_0's binary_logloss: 0.0240156\n",
      "[165]\tvalid_0's binary_logloss: 0.0240104\n",
      "[166]\tvalid_0's binary_logloss: 0.0240671\n",
      "[167]\tvalid_0's binary_logloss: 0.0240651\n",
      "[168]\tvalid_0's binary_logloss: 0.0240292\n",
      "[169]\tvalid_0's binary_logloss: 0.02402\n",
      "[170]\tvalid_0's binary_logloss: 0.0240127\n",
      "[171]\tvalid_0's binary_logloss: 0.0251166\n",
      "[172]\tvalid_0's binary_logloss: 0.0254445\n",
      "[173]\tvalid_0's binary_logloss: 0.0249747\n",
      "[174]\tvalid_0's binary_logloss: 0.0251111\n",
      "[175]\tvalid_0's binary_logloss: 0.0245538\n",
      "[176]\tvalid_0's binary_logloss: 0.0242634\n",
      "[177]\tvalid_0's binary_logloss: 0.0242521\n",
      "[178]\tvalid_0's binary_logloss: 0.0242321\n",
      "[179]\tvalid_0's binary_logloss: 0.0242216\n",
      "[180]\tvalid_0's binary_logloss: 0.0241878\n",
      "[181]\tvalid_0's binary_logloss: 0.0280407\n",
      "[182]\tvalid_0's binary_logloss: 0.0267735\n",
      "[183]\tvalid_0's binary_logloss: 0.0253813\n",
      "[184]\tvalid_0's binary_logloss: 0.0244031\n",
      "[185]\tvalid_0's binary_logloss: 0.0243884\n",
      "[186]\tvalid_0's binary_logloss: 0.0243775\n",
      "[187]\tvalid_0's binary_logloss: 0.0243596\n",
      "[188]\tvalid_0's binary_logloss: 0.0243553\n",
      "[189]\tvalid_0's binary_logloss: 0.024343\n",
      "[190]\tvalid_0's binary_logloss: 0.024334\n",
      "[191]\tvalid_0's binary_logloss: 0.0251625\n",
      "[192]\tvalid_0's binary_logloss: 0.0258391\n",
      "[193]\tvalid_0's binary_logloss: 0.0262452\n",
      "[194]\tvalid_0's binary_logloss: 0.0257686\n",
      "[195]\tvalid_0's binary_logloss: 0.0251465\n",
      "[196]\tvalid_0's binary_logloss: 0.0248734\n",
      "[197]\tvalid_0's binary_logloss: 0.0259989\n",
      "[198]\tvalid_0's binary_logloss: 0.0248661\n"
     ]
    },
    {
     "name": "stdout",
     "output_type": "stream",
     "text": [
      "[199]\tvalid_0's binary_logloss: 0.0248218\n",
      "[200]\tvalid_0's binary_logloss: 0.0248051\n",
      "[201]\tvalid_0's binary_logloss: 0.0258121\n",
      "[202]\tvalid_0's binary_logloss: 0.0256169\n",
      "[203]\tvalid_0's binary_logloss: 0.0256014\n",
      "[204]\tvalid_0's binary_logloss: 0.0255983\n",
      "[205]\tvalid_0's binary_logloss: 0.0256198\n",
      "[206]\tvalid_0's binary_logloss: 0.0267879\n",
      "[207]\tvalid_0's binary_logloss: 0.0255987\n",
      "[208]\tvalid_0's binary_logloss: 0.0262711\n",
      "[209]\tvalid_0's binary_logloss: 0.0300751\n",
      "[210]\tvalid_0's binary_logloss: 0.0257044\n",
      "[211]\tvalid_0's binary_logloss: 0.0256945\n",
      "[212]\tvalid_0's binary_logloss: 0.0256722\n",
      "[213]\tvalid_0's binary_logloss: 0.025654\n",
      "[214]\tvalid_0's binary_logloss: 0.0256474\n",
      "[215]\tvalid_0's binary_logloss: 0.0256442\n",
      "[216]\tvalid_0's binary_logloss: 0.0256473\n",
      "Early stopping, best iteration is:\n",
      "[116]\tvalid_0's binary_logloss: 0.0227973\n",
      "Wall time: 47.2 s\n"
     ]
    }
   ],
   "source": [
    "%%time\n",
    "print('Starting training...')\n",
    "# feature_name and categorical_feature\n",
    "gbm = lgb.train(params,\n",
    "                lgb_train,\n",
    "                num_boost_round=1000,\n",
    "                valid_sets=lgb_eval,  # eval training data\n",
    "                feature_name=feature_name,\n",
    "                categorical_feature=categorical_features_indices.tolist(),\n",
    "                evals_result=evals_result\n",
    "               )"
   ]
  },
  {
   "cell_type": "code",
   "execution_count": null,
   "metadata": {},
   "outputs": [],
   "source": []
  },
  {
   "cell_type": "code",
   "execution_count": 24,
   "metadata": {},
   "outputs": [
    {
     "name": "stdout",
     "output_type": "stream",
     "text": [
      "Feature names: ['acqic', 'bacno', 'cano', 'conam', 'contp', 'csmcu', 'ecfg', 'etymd', 'flbmk', 'flg_3dsmk', 'hcefg', 'insfg', 'iterm', 'locdt', 'mcc', 'mchno', 'ovrlt', 'scity', 'stocn', 'stscd']\n",
      "Feature importances: [251, 1255, 548, 287, 24, 36, 28, 51, 13, 23, 0, 6, 14, 206, 208, 287, 8, 143, 50, 42]\n"
     ]
    }
   ],
   "source": [
    "# feature names\n",
    "print('Feature names:', gbm.feature_name())\n",
    "\n",
    "# feature importances\n",
    "print('Feature importances:', list(gbm.feature_importance()))"
   ]
  },
  {
   "cell_type": "markdown",
   "metadata": {},
   "source": [
    "feature importance plot"
   ]
  },
  {
   "cell_type": "code",
   "execution_count": 25,
   "metadata": {},
   "outputs": [],
   "source": [
    "if lgb.compat.MATPLOTLIB_INSTALLED:\n",
    "    import matplotlib.pyplot as plt\n",
    "else:\n",
    "    raise ImportError('You need to install matplotlib for plot_example.py.')"
   ]
  },
  {
   "cell_type": "code",
   "execution_count": 26,
   "metadata": {},
   "outputs": [
    {
     "name": "stdout",
     "output_type": "stream",
     "text": [
      "Plotting metrics recorded during training...\n"
     ]
    },
    {
     "data": {
      "image/png": "[encoded data removed]",
      "text/plain": [
       "<Figure size 432x288 with 1 Axes>"
      ]
     },
     "metadata": {
      "needs_background": "light"
     },
     "output_type": "display_data"
    }
   ],
   "source": [
    "print('Plotting metrics recorded during training...')\n",
    "ax = lgb.plot_metric(evals_result, metric='binary_logloss')\n",
    "plt.show()\n"
   ]
  },
  {
   "cell_type": "code",
   "execution_count": 27,
   "metadata": {
    "scrolled": true
   },
   "outputs": [
    {
     "name": "stdout",
     "output_type": "stream",
     "text": [
      "Plotting feature importances...\n"
     ]
    },
    {
     "data": {
      "image/png": "[encoded data removed]",
      "text/plain": [
       "<Figure size 432x288 with 1 Axes>"
      ]
     },
     "metadata": {
      "needs_background": "light"
     },
     "output_type": "display_data"
    }
   ],
   "source": [
    "print('Plotting feature importances...')\n",
    "ax = lgb.plot_importance(gbm, max_num_features=10)\n",
    "plt.show()"
   ]
  },
  {
   "cell_type": "code",
   "execution_count": 42,
   "metadata": {},
   "outputs": [
    {
     "data": {
      "image/png": "[encoded data removed]",
      "text/plain": [
       "<Figure size 1440x720 with 1 Axes>"
      ]
     },
     "metadata": {
      "needs_background": "light"
     },
     "output_type": "display_data"
    }
   ],
   "source": [
    "# more beautiful plot code\n",
    "\n",
    "import matplotlib.pyplot as plt\n",
    "import seaborn as sns\n",
    "import warnings\n",
    "warnings.simplefilter(action='ignore', category=FutureWarning)\n",
    "\n",
    "# sorted(zip(clf.feature_importances_, X.columns), reverse=True)\n",
    "feature_imp = pd.DataFrame(sorted(zip(gbm.feature_importance(),X.columns)), columns=['Value','Feature'])\n",
    "\n",
    "plt.figure(figsize=(20, 10))\n",
    "sns.barplot(x=\"Value\", y=\"Feature\", data=feature_imp.sort_values(by=\"Value\", ascending=False))\n",
    "plt.title('LightGBM Features (avg over folds)')\n",
    "plt.tight_layout()\n",
    "plt.show()\n",
    "# plt.savefig('lgbm_importances-01.png')"
   ]
  },
  {
   "cell_type": "markdown",
   "metadata": {},
   "source": [
    "# Prediction for self-made test data"
   ]
  },
  {
   "cell_type": "code",
   "execution_count": 29,
   "metadata": {},
   "outputs": [],
   "source": [
    "X_test = test.drop(['fraud_ind'], axis=1)\n",
    "y_test = test['fraud_ind']"
   ]
  },
  {
   "cell_type": "code",
   "execution_count": 30,
   "metadata": {
    "scrolled": true
   },
   "outputs": [],
   "source": [
    "predictions_probs = gbm.predict(X_test)"
   ]
  },
  {
   "cell_type": "markdown",
   "metadata": {},
   "source": [
    "# AUC score on self-made test data"
   ]
  },
  {
   "cell_type": "code",
   "execution_count": 31,
   "metadata": {},
   "outputs": [],
   "source": [
    "pos_probs = predictions_probs"
   ]
  },
  {
   "cell_type": "code",
   "execution_count": 32,
   "metadata": {},
   "outputs": [],
   "source": [
    "# import statistics\n",
    "# median_predict_value = statistics.median(pos_probs)"
   ]
  },
  {
   "cell_type": "code",
   "execution_count": 33,
   "metadata": {},
   "outputs": [],
   "source": [
    "# threshold = median_predict_value # threshold we set where the probability prediction must be above this to be classified as a '1'\n",
    "# classes = predictions_probs.copy() # say it is the class in the second column you care about predictint\n",
    "# classes[classes>=threshold] = 1\n",
    "# classes[classes<threshold] = 0"
   ]
  },
  {
   "cell_type": "code",
   "execution_count": 34,
   "metadata": {},
   "outputs": [],
   "source": [
    "# uniqueValues, occurCount = np.unique(classes, return_counts=True)\n",
    " \n",
    "# print(\"Unique Values : \" , uniqueValues)\n",
    "# print(\"Occurrence Count : \", occurCount)"
   ]
  },
  {
   "cell_type": "code",
   "execution_count": 35,
   "metadata": {},
   "outputs": [],
   "source": [
    "from sklearn import metrics"
   ]
  },
  {
   "cell_type": "code",
   "execution_count": 36,
   "metadata": {},
   "outputs": [],
   "source": [
    "fpr, tpr, thresholds = metrics.roc_curve(y_test, pos_probs, pos_label=1)"
   ]
  },
  {
   "cell_type": "code",
   "execution_count": 37,
   "metadata": {
    "scrolled": false
   },
   "outputs": [],
   "source": [
    "roc_auc = metrics.auc(fpr, tpr)"
   ]
  },
  {
   "cell_type": "code",
   "execution_count": 38,
   "metadata": {},
   "outputs": [],
   "source": [
    "lgb_auc = metrics.roc_auc_score(y_test, pos_probs)"
   ]
  },
  {
   "cell_type": "code",
   "execution_count": 39,
   "metadata": {},
   "outputs": [
    {
     "data": {
      "image/png": "[encoded data removed]",
      "text/plain": [
       "<Figure size 432x288 with 1 Axes>"
      ]
     },
     "metadata": {
      "needs_background": "light"
     },
     "output_type": "display_data"
    }
   ],
   "source": [
    "from matplotlib import pyplot\n",
    "lgb_fpr, lgb_tpr, _ = metrics.roc_curve(y_test, pos_probs)\n",
    "# plot the roc curve for the model\n",
    "pyplot.plot(lgb_fpr, lgb_tpr, marker='.', label='LightGBM')\n",
    "# axis labels\n",
    "pyplot.xlabel('False Positive Rate')\n",
    "pyplot.ylabel('True Positive Rate')\n",
    "# show the legend\n",
    "pyplot.legend()\n",
    "# show the plot\n",
    "pyplot.show()"
   ]
  },
  {
   "cell_type": "code",
   "execution_count": 40,
   "metadata": {
    "scrolled": false
   },
   "outputs": [
    {
     "data": {
      "text/plain": [
       "0.9654085959505014"
      ]
     },
     "execution_count": 40,
     "metadata": {},
     "output_type": "execute_result"
    }
   ],
   "source": [
    "lgb_auc"
   ]
  },
  {
   "cell_type": "code",
   "execution_count": null,
   "metadata": {},
   "outputs": [],
   "source": []
  },
  {
   "cell_type": "code",
   "execution_count": null,
   "metadata": {},
   "outputs": [],
   "source": []
  }
 ],
 "metadata": {
  "kernelspec": {
   "display_name": "Python 3",
   "language": "python",
   "name": "python3"
  },
  "language_info": {
   "codemirror_mode": {
    "name": "ipython",
    "version": 3
   },
   "file_extension": ".py",
   "mimetype": "text/x-python",
   "name": "python",
   "nbconvert_exporter": "python",
   "pygments_lexer": "ipython3",
   "version": "3.7.6"
  }
 },
 "nbformat": 4,
 "nbformat_minor": 4
}
