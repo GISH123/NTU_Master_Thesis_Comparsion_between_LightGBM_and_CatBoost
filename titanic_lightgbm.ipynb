{
 "cells": [
  {
   "cell_type": "code",
   "execution_count": 67,
   "metadata": {},
   "outputs": [],
   "source": [
    "import pandas as pd\n",
    "\n",
    "all_train = pd.read_csv('./data/titanic/train.csv')  "
   ]
  },
  {
   "cell_type": "code",
   "execution_count": 68,
   "metadata": {},
   "outputs": [],
   "source": [
    "#manual train test split\n",
    "#to make sure the distribution of label \"survived\" are the same on train and test\n",
    "from sklearn.model_selection import train_test_split\n",
    "\n",
    "train, test = train_test_split(all_train, test_size=0.25 , random_state=1337,stratify = all_train['Survived'])\n"
   ]
  },
  {
   "cell_type": "code",
   "execution_count": 69,
   "metadata": {},
   "outputs": [],
   "source": [
    "test_id = test['PassengerId']\n",
    "del train['PassengerId']\n",
    "del test['PassengerId']"
   ]
  },
  {
   "cell_type": "code",
   "execution_count": null,
   "metadata": {},
   "outputs": [],
   "source": []
  },
  {
   "cell_type": "markdown",
   "metadata": {},
   "source": [
    "# preprocessing"
   ]
  },
  {
   "cell_type": "markdown",
   "metadata": {},
   "source": [
    "Missing Value"
   ]
  },
  {
   "cell_type": "code",
   "execution_count": 70,
   "metadata": {},
   "outputs": [
    {
     "name": "stderr",
     "output_type": "stream",
     "text": [
      "C:\\Users\\willy\\anaconda3\\lib\\site-packages\\pandas\\core\\frame.py:2963: SettingWithCopyWarning: \n",
      "A value is trying to be set on a copy of a slice from a DataFrame.\n",
      "Try using .loc[row_indexer,col_indexer] = value instead\n",
      "\n",
      "See the caveats in the documentation: https://pandas.pydata.org/pandas-docs/stable/user_guide/indexing.html#returning-a-view-versus-a-copy\n",
      "  self[k1] = value[k2]\n"
     ]
    }
   ],
   "source": [
    "#categorical\n",
    "train[['Cabin', 'Embarked']] = train[['Cabin','Embarked']].fillna(value='Missing')\n",
    "test[['Cabin', 'Embarked']] = test[['Cabin','Embarked']].fillna(value='Missing')"
   ]
  },
  {
   "cell_type": "code",
   "execution_count": 71,
   "metadata": {},
   "outputs": [
    {
     "name": "stderr",
     "output_type": "stream",
     "text": [
      "C:\\Users\\willy\\anaconda3\\lib\\site-packages\\ipykernel_launcher.py:2: SettingWithCopyWarning: \n",
      "A value is trying to be set on a copy of a slice from a DataFrame.\n",
      "Try using .loc[row_indexer,col_indexer] = value instead\n",
      "\n",
      "See the caveats in the documentation: https://pandas.pydata.org/pandas-docs/stable/user_guide/indexing.html#returning-a-view-versus-a-copy\n",
      "  \n",
      "C:\\Users\\willy\\anaconda3\\lib\\site-packages\\ipykernel_launcher.py:3: SettingWithCopyWarning: \n",
      "A value is trying to be set on a copy of a slice from a DataFrame.\n",
      "Try using .loc[row_indexer,col_indexer] = value instead\n",
      "\n",
      "See the caveats in the documentation: https://pandas.pydata.org/pandas-docs/stable/user_guide/indexing.html#returning-a-view-versus-a-copy\n",
      "  This is separate from the ipykernel package so we can avoid doing imports until\n",
      "C:\\Users\\willy\\anaconda3\\lib\\site-packages\\ipykernel_launcher.py:4: SettingWithCopyWarning: \n",
      "A value is trying to be set on a copy of a slice from a DataFrame.\n",
      "Try using .loc[row_indexer,col_indexer] = value instead\n",
      "\n",
      "See the caveats in the documentation: https://pandas.pydata.org/pandas-docs/stable/user_guide/indexing.html#returning-a-view-versus-a-copy\n",
      "  after removing the cwd from sys.path.\n"
     ]
    }
   ],
   "source": [
    "#numerical, using train data's mean value\n",
    "test['Age'] = test['Age'].fillna(value=train['Age'].mean())\n",
    "test['Fare'] = test['Fare'].fillna(value=train['Fare'].mean()) \n",
    "train['Age'] = train['Age'].fillna(value=train['Age'].mean())"
   ]
  },
  {
   "cell_type": "markdown",
   "metadata": {},
   "source": [
    "Identify categorical columns"
   ]
  },
  {
   "cell_type": "code",
   "execution_count": 72,
   "metadata": {
    "scrolled": false
   },
   "outputs": [
    {
     "data": {
      "text/plain": [
       "Survived      int64\n",
       "Pclass        int64\n",
       "Name         object\n",
       "Sex          object\n",
       "Age         float64\n",
       "SibSp         int64\n",
       "Parch         int64\n",
       "Ticket       object\n",
       "Fare        float64\n",
       "Cabin        object\n",
       "Embarked     object\n",
       "dtype: object"
      ]
     },
     "execution_count": 72,
     "metadata": {},
     "output_type": "execute_result"
    }
   ],
   "source": [
    "train.dtypes"
   ]
  },
  {
   "cell_type": "code",
   "execution_count": 73,
   "metadata": {},
   "outputs": [],
   "source": [
    "# Catboost need to know which columns are categorical, I simply change the categorical columns datatype to object"
   ]
  },
  {
   "cell_type": "code",
   "execution_count": 74,
   "metadata": {},
   "outputs": [],
   "source": [
    "def change_column_dtype_to_object(name):\n",
    "    train[name] = train[name].astype('object')\n",
    "    test[name] = test[name].astype('object')"
   ]
  },
  {
   "cell_type": "code",
   "execution_count": 75,
   "metadata": {},
   "outputs": [
    {
     "name": "stderr",
     "output_type": "stream",
     "text": [
      "C:\\Users\\willy\\anaconda3\\lib\\site-packages\\ipykernel_launcher.py:2: SettingWithCopyWarning: \n",
      "A value is trying to be set on a copy of a slice from a DataFrame.\n",
      "Try using .loc[row_indexer,col_indexer] = value instead\n",
      "\n",
      "See the caveats in the documentation: https://pandas.pydata.org/pandas-docs/stable/user_guide/indexing.html#returning-a-view-versus-a-copy\n",
      "  \n",
      "C:\\Users\\willy\\anaconda3\\lib\\site-packages\\ipykernel_launcher.py:3: SettingWithCopyWarning: \n",
      "A value is trying to be set on a copy of a slice from a DataFrame.\n",
      "Try using .loc[row_indexer,col_indexer] = value instead\n",
      "\n",
      "See the caveats in the documentation: https://pandas.pydata.org/pandas-docs/stable/user_guide/indexing.html#returning-a-view-versus-a-copy\n",
      "  This is separate from the ipykernel package so we can avoid doing imports until\n"
     ]
    }
   ],
   "source": [
    "change_column_dtype_to_object(\"Name\")\n",
    "change_column_dtype_to_object(\"Sex\")\n",
    "change_column_dtype_to_object(\"Ticket\")\n",
    "change_column_dtype_to_object(\"Cabin\")\n",
    "change_column_dtype_to_object(\"Embarked\")"
   ]
  },
  {
   "cell_type": "markdown",
   "metadata": {},
   "source": [
    "## Categorical column encoding"
   ]
  },
  {
   "cell_type": "code",
   "execution_count": 76,
   "metadata": {
    "scrolled": true
   },
   "outputs": [],
   "source": [
    "import numpy as np"
   ]
  },
  {
   "cell_type": "code",
   "execution_count": 77,
   "metadata": {},
   "outputs": [],
   "source": [
    "cat_col_list = train.dtypes[train.dtypes == object].index.tolist()"
   ]
  },
  {
   "cell_type": "markdown",
   "metadata": {},
   "source": [
    "# Unseen test categorical column values\n",
    "solution: https://stackoverflow.com/questions/21057621/sklearn-labelencoder-with-never-seen-before-values"
   ]
  },
  {
   "cell_type": "code",
   "execution_count": 78,
   "metadata": {},
   "outputs": [],
   "source": [
    "from sklearn.preprocessing import LabelEncoder\n",
    "import numpy as np\n",
    "\n",
    "\n",
    "class LabelEncoderExt(object):\n",
    "    def __init__(self):\n",
    "        \"\"\"\n",
    "        It differs from LabelEncoder by handling new classes and providing a value for it [Unknown]\n",
    "        Unknown will be added in fit and transform will take care of new item. It gives unknown class id\n",
    "        \"\"\"\n",
    "        self.label_encoder = LabelEncoder()\n",
    "        # self.classes_ = self.label_encoder.classes_\n",
    "\n",
    "    def fit(self, data_list):\n",
    "        \"\"\"\n",
    "        This will fit the encoder for all the unique values and introduce unknown value\n",
    "        :param data_list: A list of string\n",
    "        :return: self\n",
    "        \"\"\"\n",
    "        self.label_encoder = self.label_encoder.fit(list(data_list) + ['Unknown'])\n",
    "        self.classes_ = self.label_encoder.classes_\n",
    "\n",
    "        return self\n",
    "\n",
    "    def transform(self, data_list):\n",
    "        \"\"\"\n",
    "        This will transform the data_list to id list where the new values get assigned to Unknown class\n",
    "        :param data_list:\n",
    "        :return:\n",
    "        \"\"\"\n",
    "        new_data_list = list(data_list)\n",
    "        for unique_item in np.unique(data_list):\n",
    "            if unique_item not in self.label_encoder.classes_:\n",
    "                new_data_list = ['Unknown' if x==unique_item else x for x in new_data_list]\n",
    "\n",
    "        return self.label_encoder.transform(new_data_list)"
   ]
  },
  {
   "cell_type": "code",
   "execution_count": 79,
   "metadata": {},
   "outputs": [
    {
     "name": "stderr",
     "output_type": "stream",
     "text": [
      "C:\\Users\\willy\\anaconda3\\lib\\site-packages\\ipykernel_launcher.py:8: SettingWithCopyWarning: \n",
      "A value is trying to be set on a copy of a slice from a DataFrame.\n",
      "Try using .loc[row_indexer,col_indexer] = value instead\n",
      "\n",
      "See the caveats in the documentation: https://pandas.pydata.org/pandas-docs/stable/user_guide/indexing.html#returning-a-view-versus-a-copy\n",
      "  \n",
      "C:\\Users\\willy\\anaconda3\\lib\\site-packages\\ipykernel_launcher.py:9: SettingWithCopyWarning: \n",
      "A value is trying to be set on a copy of a slice from a DataFrame.\n",
      "Try using .loc[row_indexer,col_indexer] = value instead\n",
      "\n",
      "See the caveats in the documentation: https://pandas.pydata.org/pandas-docs/stable/user_guide/indexing.html#returning-a-view-versus-a-copy\n",
      "  if __name__ == '__main__':\n"
     ]
    }
   ],
   "source": [
    "#record the original value \n",
    "cat_col_ref_dict  = {}\n",
    "\n",
    "from sklearn.preprocessing import LabelEncoder\n",
    "le = LabelEncoderExt()\n",
    "for i in cat_col_list:\n",
    "    le.fit(train[i])\n",
    "    train[i] = le.transform(train[i])\n",
    "    test[i] = le.transform(test[i])\n",
    "    cat_col_ref_dict.update({i : le.classes_})"
   ]
  },
  {
   "cell_type": "code",
   "execution_count": 80,
   "metadata": {
    "scrolled": true
   },
   "outputs": [
    {
     "name": "stderr",
     "output_type": "stream",
     "text": [
      "C:\\Users\\willy\\anaconda3\\lib\\site-packages\\ipykernel_launcher.py:4: SettingWithCopyWarning: \n",
      "A value is trying to be set on a copy of a slice from a DataFrame.\n",
      "Try using .loc[row_indexer,col_indexer] = value instead\n",
      "\n",
      "See the caveats in the documentation: https://pandas.pydata.org/pandas-docs/stable/user_guide/indexing.html#returning-a-view-versus-a-copy\n",
      "  after removing the cwd from sys.path.\n",
      "C:\\Users\\willy\\anaconda3\\lib\\site-packages\\ipykernel_launcher.py:5: SettingWithCopyWarning: \n",
      "A value is trying to be set on a copy of a slice from a DataFrame.\n",
      "Try using .loc[row_indexer,col_indexer] = value instead\n",
      "\n",
      "See the caveats in the documentation: https://pandas.pydata.org/pandas-docs/stable/user_guide/indexing.html#returning-a-view-versus-a-copy\n",
      "  \"\"\"\n"
     ]
    }
   ],
   "source": [
    "#making sure those cateogrical variables are dtype \"category\"\n",
    "#and use label encoding\n",
    "for col in cat_col_list:\n",
    "    train[col] = train[col].astype('category')\n",
    "    test[col] = test[col].astype('category')"
   ]
  },
  {
   "cell_type": "code",
   "execution_count": 81,
   "metadata": {
    "scrolled": true
   },
   "outputs": [
    {
     "data": {
      "text/html": [
       "<div>\n",
       "<style scoped>\n",
       "    .dataframe tbody tr th:only-of-type {\n",
       "        vertical-align: middle;\n",
       "    }\n",
       "\n",
       "    .dataframe tbody tr th {\n",
       "        vertical-align: top;\n",
       "    }\n",
       "\n",
       "    .dataframe thead th {\n",
       "        text-align: right;\n",
       "    }\n",
       "</style>\n",
       "<table border=\"1\" class=\"dataframe\">\n",
       "  <thead>\n",
       "    <tr style=\"text-align: right;\">\n",
       "      <th></th>\n",
       "      <th>Survived</th>\n",
       "      <th>Pclass</th>\n",
       "      <th>Name</th>\n",
       "      <th>Sex</th>\n",
       "      <th>Age</th>\n",
       "      <th>SibSp</th>\n",
       "      <th>Parch</th>\n",
       "      <th>Ticket</th>\n",
       "      <th>Fare</th>\n",
       "      <th>Cabin</th>\n",
       "      <th>Embarked</th>\n",
       "    </tr>\n",
       "  </thead>\n",
       "  <tbody>\n",
       "    <tr>\n",
       "      <th>437</th>\n",
       "      <td>1</td>\n",
       "      <td>2</td>\n",
       "      <td>524</td>\n",
       "      <td>1</td>\n",
       "      <td>24.000000</td>\n",
       "      <td>2</td>\n",
       "      <td>3</td>\n",
       "      <td>187</td>\n",
       "      <td>18.7500</td>\n",
       "      <td>119</td>\n",
       "      <td>3</td>\n",
       "    </tr>\n",
       "    <tr>\n",
       "      <th>418</th>\n",
       "      <td>0</td>\n",
       "      <td>2</td>\n",
       "      <td>393</td>\n",
       "      <td>2</td>\n",
       "      <td>30.000000</td>\n",
       "      <td>0</td>\n",
       "      <td>0</td>\n",
       "      <td>178</td>\n",
       "      <td>13.0000</td>\n",
       "      <td>119</td>\n",
       "      <td>3</td>\n",
       "    </tr>\n",
       "    <tr>\n",
       "      <th>671</th>\n",
       "      <td>0</td>\n",
       "      <td>1</td>\n",
       "      <td>153</td>\n",
       "      <td>2</td>\n",
       "      <td>31.000000</td>\n",
       "      <td>1</td>\n",
       "      <td>0</td>\n",
       "      <td>452</td>\n",
       "      <td>52.0000</td>\n",
       "      <td>31</td>\n",
       "      <td>3</td>\n",
       "    </tr>\n",
       "    <tr>\n",
       "      <th>756</th>\n",
       "      <td>0</td>\n",
       "      <td>3</td>\n",
       "      <td>108</td>\n",
       "      <td>2</td>\n",
       "      <td>28.000000</td>\n",
       "      <td>0</td>\n",
       "      <td>0</td>\n",
       "      <td>324</td>\n",
       "      <td>7.7958</td>\n",
       "      <td>119</td>\n",
       "      <td>3</td>\n",
       "    </tr>\n",
       "    <tr>\n",
       "      <th>613</th>\n",
       "      <td>0</td>\n",
       "      <td>3</td>\n",
       "      <td>289</td>\n",
       "      <td>2</td>\n",
       "      <td>29.645526</td>\n",
       "      <td>0</td>\n",
       "      <td>0</td>\n",
       "      <td>377</td>\n",
       "      <td>7.7500</td>\n",
       "      <td>119</td>\n",
       "      <td>2</td>\n",
       "    </tr>\n",
       "    <tr>\n",
       "      <th>...</th>\n",
       "      <td>...</td>\n",
       "      <td>...</td>\n",
       "      <td>...</td>\n",
       "      <td>...</td>\n",
       "      <td>...</td>\n",
       "      <td>...</td>\n",
       "      <td>...</td>\n",
       "      <td>...</td>\n",
       "      <td>...</td>\n",
       "      <td>...</td>\n",
       "      <td>...</td>\n",
       "    </tr>\n",
       "    <tr>\n",
       "      <th>429</th>\n",
       "      <td>1</td>\n",
       "      <td>3</td>\n",
       "      <td>506</td>\n",
       "      <td>2</td>\n",
       "      <td>32.000000</td>\n",
       "      <td>0</td>\n",
       "      <td>0</td>\n",
       "      <td>515</td>\n",
       "      <td>8.0500</td>\n",
       "      <td>94</td>\n",
       "      <td>3</td>\n",
       "    </tr>\n",
       "    <tr>\n",
       "      <th>372</th>\n",
       "      <td>0</td>\n",
       "      <td>3</td>\n",
       "      <td>57</td>\n",
       "      <td>2</td>\n",
       "      <td>19.000000</td>\n",
       "      <td>0</td>\n",
       "      <td>0</td>\n",
       "      <td>216</td>\n",
       "      <td>8.0500</td>\n",
       "      <td>119</td>\n",
       "      <td>3</td>\n",
       "    </tr>\n",
       "    <tr>\n",
       "      <th>393</th>\n",
       "      <td>1</td>\n",
       "      <td>1</td>\n",
       "      <td>446</td>\n",
       "      <td>1</td>\n",
       "      <td>23.000000</td>\n",
       "      <td>1</td>\n",
       "      <td>0</td>\n",
       "      <td>334</td>\n",
       "      <td>113.2750</td>\n",
       "      <td>83</td>\n",
       "      <td>0</td>\n",
       "    </tr>\n",
       "    <tr>\n",
       "      <th>743</th>\n",
       "      <td>0</td>\n",
       "      <td>3</td>\n",
       "      <td>405</td>\n",
       "      <td>2</td>\n",
       "      <td>24.000000</td>\n",
       "      <td>1</td>\n",
       "      <td>0</td>\n",
       "      <td>384</td>\n",
       "      <td>16.1000</td>\n",
       "      <td>119</td>\n",
       "      <td>3</td>\n",
       "    </tr>\n",
       "    <tr>\n",
       "      <th>234</th>\n",
       "      <td>0</td>\n",
       "      <td>2</td>\n",
       "      <td>367</td>\n",
       "      <td>2</td>\n",
       "      <td>24.000000</td>\n",
       "      <td>0</td>\n",
       "      <td>0</td>\n",
       "      <td>439</td>\n",
       "      <td>10.5000</td>\n",
       "      <td>119</td>\n",
       "      <td>3</td>\n",
       "    </tr>\n",
       "  </tbody>\n",
       "</table>\n",
       "<p>668 rows × 11 columns</p>\n",
       "</div>"
      ],
      "text/plain": [
       "     Survived  Pclass Name Sex        Age  SibSp  Parch Ticket      Fare  \\\n",
       "437         1       2  524   1  24.000000      2      3    187   18.7500   \n",
       "418         0       2  393   2  30.000000      0      0    178   13.0000   \n",
       "671         0       1  153   2  31.000000      1      0    452   52.0000   \n",
       "756         0       3  108   2  28.000000      0      0    324    7.7958   \n",
       "613         0       3  289   2  29.645526      0      0    377    7.7500   \n",
       "..        ...     ...  ...  ..        ...    ...    ...    ...       ...   \n",
       "429         1       3  506   2  32.000000      0      0    515    8.0500   \n",
       "372         0       3   57   2  19.000000      0      0    216    8.0500   \n",
       "393         1       1  446   1  23.000000      1      0    334  113.2750   \n",
       "743         0       3  405   2  24.000000      1      0    384   16.1000   \n",
       "234         0       2  367   2  24.000000      0      0    439   10.5000   \n",
       "\n",
       "    Cabin Embarked  \n",
       "437   119        3  \n",
       "418   119        3  \n",
       "671    31        3  \n",
       "756   119        3  \n",
       "613   119        2  \n",
       "..    ...      ...  \n",
       "429    94        3  \n",
       "372   119        3  \n",
       "393    83        0  \n",
       "743   119        3  \n",
       "234   119        3  \n",
       "\n",
       "[668 rows x 11 columns]"
      ]
     },
     "execution_count": 81,
     "metadata": {},
     "output_type": "execute_result"
    }
   ],
   "source": [
    "train # Names are all unseen, its like ID, should I delete?"
   ]
  },
  {
   "cell_type": "markdown",
   "metadata": {},
   "source": [
    "# Modeling using partial of training data"
   ]
  },
  {
   "cell_type": "code",
   "execution_count": 82,
   "metadata": {},
   "outputs": [],
   "source": [
    "import pandas as pd\n",
    "import numpy as np\n",
    "pd.set_option('display.max_columns', 500) "
   ]
  },
  {
   "cell_type": "code",
   "execution_count": 83,
   "metadata": {},
   "outputs": [],
   "source": [
    "X = train.drop(['Survived'], axis=1)\n",
    "y = train[['Survived']]"
   ]
  },
  {
   "cell_type": "code",
   "execution_count": 84,
   "metadata": {},
   "outputs": [],
   "source": [
    "from sklearn.model_selection import train_test_split\n",
    "\n",
    "X_train_and_val, X_test, y_train_and_val, y_test = train_test_split(X, y, train_size=0.75, random_state=1337,stratify=y)\n",
    "X_train, X_val, y_train, y_val = train_test_split(X_train_and_val, y_train_and_val, train_size=0.75, random_state=1337,stratify=y_train_and_val)"
   ]
  },
  {
   "cell_type": "code",
   "execution_count": 85,
   "metadata": {},
   "outputs": [],
   "source": [
    "import numpy as np\n",
    "import lightgbm as lgb"
   ]
  },
  {
   "cell_type": "code",
   "execution_count": 86,
   "metadata": {},
   "outputs": [],
   "source": [
    "lgb_train = lgb.Dataset(X_train, y_train,\n",
    "                        free_raw_data=False)\n",
    "lgb_eval = lgb.Dataset(X_val, y_val, reference=lgb_train,\n",
    "                        free_raw_data=False)"
   ]
  },
  {
   "cell_type": "code",
   "execution_count": 87,
   "metadata": {},
   "outputs": [],
   "source": [
    "num_train, num_feature = X_train.shape"
   ]
  },
  {
   "cell_type": "code",
   "execution_count": 88,
   "metadata": {},
   "outputs": [],
   "source": [
    "# generate feature names\n",
    "# feature_name = ['feature_' + str(col) for col in range(num_feature)]\n",
    "feature_name = X_train.columns.tolist()"
   ]
  },
  {
   "cell_type": "code",
   "execution_count": 89,
   "metadata": {},
   "outputs": [],
   "source": [
    "categorical_features_indices = np.where(X.dtypes == \"category\")[0]"
   ]
  },
  {
   "cell_type": "code",
   "execution_count": 90,
   "metadata": {},
   "outputs": [
    {
     "data": {
      "text/plain": [
       "array([1, 2, 6, 8, 9], dtype=int64)"
      ]
     },
     "execution_count": 90,
     "metadata": {},
     "output_type": "execute_result"
    }
   ],
   "source": [
    "categorical_features_indices"
   ]
  },
  {
   "cell_type": "code",
   "execution_count": 91,
   "metadata": {},
   "outputs": [],
   "source": [
    "# specify your configurations as a dict\n",
    "params = {\n",
    "    'objective': 'binary',\n",
    "    'metric': 'binary_logloss',\n",
    "    'early_stopping_rounds' : 100,\n",
    "    'verbose': 0\n",
    "}"
   ]
  },
  {
   "cell_type": "code",
   "execution_count": 92,
   "metadata": {},
   "outputs": [],
   "source": [
    "evals_result = {}  # to record eval results for plotting"
   ]
  },
  {
   "cell_type": "code",
   "execution_count": 93,
   "metadata": {},
   "outputs": [
    {
     "name": "stdout",
     "output_type": "stream",
     "text": [
      "Starting training...\n",
      "[1]\tvalid_0's binary_logloss: 0.624518\n",
      "Training until validation scores don't improve for 100 rounds\n",
      "[2]\tvalid_0's binary_logloss: 0.592848\n",
      "[3]\tvalid_0's binary_logloss: 0.567897\n",
      "[4]\tvalid_0's binary_logloss: 0.548117\n",
      "[5]\tvalid_0's binary_logloss: 0.532596\n",
      "[6]\tvalid_0's binary_logloss: 0.520076\n",
      "[7]\tvalid_0's binary_logloss: 0.510268\n",
      "[8]\tvalid_0's binary_logloss: 0.50014\n",
      "[9]\tvalid_0's binary_logloss: 0.492709\n",
      "[10]\tvalid_0's binary_logloss: 0.48539\n",
      "[11]\tvalid_0's binary_logloss: 0.479668\n",
      "[12]\tvalid_0's binary_logloss: 0.474439\n",
      "[13]\tvalid_0's binary_logloss: 0.47066\n",
      "[14]\tvalid_0's binary_logloss: 0.467404\n",
      "[15]\tvalid_0's binary_logloss: 0.4643\n",
      "[16]\tvalid_0's binary_logloss: 0.462606\n",
      "[17]\tvalid_0's binary_logloss: 0.460637\n",
      "[18]\tvalid_0's binary_logloss: 0.459384\n",
      "[19]\tvalid_0's binary_logloss: 0.456386\n",
      "[20]\tvalid_0's binary_logloss: 0.454546\n",
      "[21]\tvalid_0's binary_logloss: 0.450517\n",
      "[22]\tvalid_0's binary_logloss: 0.447581\n",
      "[23]\tvalid_0's binary_logloss: 0.447794\n",
      "[24]\tvalid_0's binary_logloss: 0.44727\n",
      "[25]\tvalid_0's binary_logloss: 0.44796\n",
      "[26]\tvalid_0's binary_logloss: 0.448488\n",
      "[27]\tvalid_0's binary_logloss: 0.449413\n",
      "[28]\tvalid_0's binary_logloss: 0.4477\n",
      "[29]\tvalid_0's binary_logloss: 0.44928\n",
      "[30]\tvalid_0's binary_logloss: 0.449552\n",
      "[31]\tvalid_0's binary_logloss: 0.451357\n",
      "[32]\tvalid_0's binary_logloss: 0.451691\n",
      "[33]\tvalid_0's binary_logloss: 0.453767\n",
      "[34]\tvalid_0's binary_logloss: 0.45686\n",
      "[35]\tvalid_0's binary_logloss: 0.457511\n",
      "[36]\tvalid_0's binary_logloss: 0.459053\n",
      "[37]\tvalid_0's binary_logloss: 0.459704\n",
      "[38]\tvalid_0's binary_logloss: 0.461467\n",
      "[39]\tvalid_0's binary_logloss: 0.462478\n",
      "[40]\tvalid_0's binary_logloss: 0.464306\n",
      "[41]\tvalid_0's binary_logloss: 0.465414\n",
      "[42]\tvalid_0's binary_logloss: 0.465647\n",
      "[43]\tvalid_0's binary_logloss: 0.466167\n",
      "[44]\tvalid_0's binary_logloss: 0.465909\n",
      "[45]\tvalid_0's binary_logloss: 0.467188\n",
      "[46]\tvalid_0's binary_logloss: 0.466246\n",
      "[47]\tvalid_0's binary_logloss: 0.468291\n",
      "[48]\tvalid_0's binary_logloss: 0.468603\n",
      "[49]\tvalid_0's binary_logloss: 0.469875\n",
      "[50]\tvalid_0's binary_logloss: 0.47027\n",
      "[51]\tvalid_0's binary_logloss: 0.472302\n",
      "[52]\tvalid_0's binary_logloss: 0.475144\n",
      "[53]\tvalid_0's binary_logloss: 0.476013\n",
      "[54]\tvalid_0's binary_logloss: 0.475554\n",
      "[55]\tvalid_0's binary_logloss: 0.475094\n",
      "[56]\tvalid_0's binary_logloss: 0.475412\n",
      "[57]\tvalid_0's binary_logloss: 0.477733\n",
      "[58]\tvalid_0's binary_logloss: 0.47809\n",
      "[59]\tvalid_0's binary_logloss: 0.477894\n",
      "[60]\tvalid_0's binary_logloss: 0.479493\n",
      "[61]\tvalid_0's binary_logloss: 0.479608\n",
      "[62]\tvalid_0's binary_logloss: 0.479901\n",
      "[63]\tvalid_0's binary_logloss: 0.481603\n",
      "[64]\tvalid_0's binary_logloss: 0.483461\n",
      "[65]\tvalid_0's binary_logloss: 0.484803\n",
      "[66]\tvalid_0's binary_logloss: 0.487344\n",
      "[67]\tvalid_0's binary_logloss: 0.48768\n",
      "[68]\tvalid_0's binary_logloss: 0.488181\n",
      "[69]\tvalid_0's binary_logloss: 0.491512\n",
      "[70]\tvalid_0's binary_logloss: 0.493087\n",
      "[71]\tvalid_0's binary_logloss: 0.495107\n",
      "[72]\tvalid_0's binary_logloss: 0.496665\n",
      "[73]\tvalid_0's binary_logloss: 0.497418\n",
      "[74]\tvalid_0's binary_logloss: 0.499361\n",
      "[75]\tvalid_0's binary_logloss: 0.501236\n",
      "[76]\tvalid_0's binary_logloss: 0.501696\n",
      "[77]\tvalid_0's binary_logloss: 0.500894\n",
      "[78]\tvalid_0's binary_logloss: 0.501937\n",
      "[79]\tvalid_0's binary_logloss: 0.502845\n",
      "[80]\tvalid_0's binary_logloss: 0.503749\n"
     ]
    },
    {
     "name": "stderr",
     "output_type": "stream",
     "text": [
      "C:\\Users\\willy\\anaconda3\\lib\\site-packages\\lightgbm\\engine.py:153: UserWarning: Found `early_stopping_rounds` in params. Will use it instead of argument\n",
      "  warnings.warn(\"Found `{}` in params. Will use it instead of argument\".format(alias))\n",
      "C:\\Users\\willy\\anaconda3\\lib\\site-packages\\lightgbm\\basic.py:1295: UserWarning: categorical_feature in Dataset is overridden.\n",
      "New categorical_feature is [1, 2, 6, 8, 9]\n",
      "  'New categorical_feature is {}'.format(sorted(list(categorical_feature))))\n"
     ]
    },
    {
     "name": "stdout",
     "output_type": "stream",
     "text": [
      "[81]\tvalid_0's binary_logloss: 0.502748\n",
      "[82]\tvalid_0's binary_logloss: 0.504898\n",
      "[83]\tvalid_0's binary_logloss: 0.507618\n",
      "[84]\tvalid_0's binary_logloss: 0.509009\n",
      "[85]\tvalid_0's binary_logloss: 0.510677\n",
      "[86]\tvalid_0's binary_logloss: 0.51119\n",
      "[87]\tvalid_0's binary_logloss: 0.511494\n",
      "[88]\tvalid_0's binary_logloss: 0.512594\n",
      "[89]\tvalid_0's binary_logloss: 0.516072\n",
      "[90]\tvalid_0's binary_logloss: 0.517188\n",
      "[91]\tvalid_0's binary_logloss: 0.51686\n",
      "[92]\tvalid_0's binary_logloss: 0.518068\n",
      "[93]\tvalid_0's binary_logloss: 0.52077\n",
      "[94]\tvalid_0's binary_logloss: 0.521174\n",
      "[95]\tvalid_0's binary_logloss: 0.522092\n",
      "[96]\tvalid_0's binary_logloss: 0.522234\n",
      "[97]\tvalid_0's binary_logloss: 0.523028\n",
      "[98]\tvalid_0's binary_logloss: 0.524901\n",
      "[99]\tvalid_0's binary_logloss: 0.524762\n",
      "[100]\tvalid_0's binary_logloss: 0.525458\n",
      "[101]\tvalid_0's binary_logloss: 0.527203\n",
      "[102]\tvalid_0's binary_logloss: 0.529463\n",
      "[103]\tvalid_0's binary_logloss: 0.530794\n",
      "[104]\tvalid_0's binary_logloss: 0.531631\n",
      "[105]\tvalid_0's binary_logloss: 0.533831\n",
      "[106]\tvalid_0's binary_logloss: 0.533096\n",
      "[107]\tvalid_0's binary_logloss: 0.534593\n",
      "[108]\tvalid_0's binary_logloss: 0.535315\n",
      "[109]\tvalid_0's binary_logloss: 0.538017\n",
      "[110]\tvalid_0's binary_logloss: 0.538568\n",
      "[111]\tvalid_0's binary_logloss: 0.538548\n",
      "[112]\tvalid_0's binary_logloss: 0.538588\n",
      "[113]\tvalid_0's binary_logloss: 0.541114\n",
      "[114]\tvalid_0's binary_logloss: 0.542949\n",
      "[115]\tvalid_0's binary_logloss: 0.544572\n",
      "[116]\tvalid_0's binary_logloss: 0.544461\n",
      "[117]\tvalid_0's binary_logloss: 0.545589\n",
      "[118]\tvalid_0's binary_logloss: 0.545935\n",
      "[119]\tvalid_0's binary_logloss: 0.546865\n",
      "[120]\tvalid_0's binary_logloss: 0.548072\n",
      "[121]\tvalid_0's binary_logloss: 0.550727\n",
      "[122]\tvalid_0's binary_logloss: 0.552132\n",
      "[123]\tvalid_0's binary_logloss: 0.553425\n",
      "[124]\tvalid_0's binary_logloss: 0.553854\n",
      "Early stopping, best iteration is:\n",
      "[24]\tvalid_0's binary_logloss: 0.44727\n"
     ]
    }
   ],
   "source": [
    "print('Starting training...')\n",
    "# feature_name and categorical_feature\n",
    "gbm = lgb.train(params,\n",
    "                lgb_train,\n",
    "                num_boost_round=1000,\n",
    "                valid_sets=lgb_eval,  # eval training data\n",
    "                feature_name=feature_name,\n",
    "                categorical_feature=categorical_features_indices.tolist(),\n",
    "                evals_result=evals_result\n",
    "               )"
   ]
  },
  {
   "cell_type": "code",
   "execution_count": null,
   "metadata": {},
   "outputs": [],
   "source": []
  },
  {
   "cell_type": "code",
   "execution_count": 94,
   "metadata": {},
   "outputs": [
    {
     "name": "stdout",
     "output_type": "stream",
     "text": [
      "Feature names: ['Pclass', 'Name', 'Sex', 'Age', 'SibSp', 'Parch', 'Ticket', 'Fare', 'Cabin', 'Embarked']\n",
      "Feature importances: [27, 0, 24, 140, 9, 4, 0, 77, 16, 24]\n"
     ]
    }
   ],
   "source": [
    "# feature names\n",
    "print('Feature names:', gbm.feature_name())\n",
    "\n",
    "# feature importances\n",
    "print('Feature importances:', list(gbm.feature_importance()))"
   ]
  },
  {
   "cell_type": "markdown",
   "metadata": {},
   "source": [
    "feature importance plot"
   ]
  },
  {
   "cell_type": "code",
   "execution_count": 95,
   "metadata": {},
   "outputs": [],
   "source": [
    "if lgb.compat.MATPLOTLIB_INSTALLED:\n",
    "    import matplotlib.pyplot as plt\n",
    "else:\n",
    "    raise ImportError('You need to install matplotlib for plot_example.py.')"
   ]
  },
  {
   "cell_type": "code",
   "execution_count": 96,
   "metadata": {},
   "outputs": [
    {
     "name": "stdout",
     "output_type": "stream",
     "text": [
      "Plotting metrics recorded during training...\n"
     ]
    },
    {
     "data": {
      "image/png": "[encoded data removed]",
      "text/plain": [
       "<Figure size 432x288 with 1 Axes>"
      ]
     },
     "metadata": {
      "needs_background": "light"
     },
     "output_type": "display_data"
    }
   ],
   "source": [
    "print('Plotting metrics recorded during training...')\n",
    "ax = lgb.plot_metric(evals_result, metric='binary_logloss')\n",
    "plt.show()\n"
   ]
  },
  {
   "cell_type": "code",
   "execution_count": 97,
   "metadata": {
    "scrolled": true
   },
   "outputs": [
    {
     "name": "stdout",
     "output_type": "stream",
     "text": [
      "Plotting feature importances...\n"
     ]
    },
    {
     "data": {
      "image/png": "[encoded data removed]",
      "text/plain": [
       "<Figure size 432x288 with 1 Axes>"
      ]
     },
     "metadata": {
      "needs_background": "light"
     },
     "output_type": "display_data"
    }
   ],
   "source": [
    "print('Plotting feature importances...')\n",
    "ax = lgb.plot_importance(gbm, max_num_features=10)\n",
    "plt.show()"
   ]
  },
  {
   "cell_type": "code",
   "execution_count": 98,
   "metadata": {
    "scrolled": false
   },
   "outputs": [
    {
     "data": {
      "image/png": "[encoded data removed]",
      "text/plain": [
       "<Figure size 1440x720 with 1 Axes>"
      ]
     },
     "metadata": {
      "needs_background": "light"
     },
     "output_type": "display_data"
    }
   ],
   "source": [
    "# more beautiful plot code\n",
    "\n",
    "import matplotlib.pyplot as plt\n",
    "import seaborn as sns\n",
    "import warnings\n",
    "warnings.simplefilter(action='ignore', category=FutureWarning)\n",
    "\n",
    "# sorted(zip(clf.feature_importances_, X.columns), reverse=True)\n",
    "feature_imp = pd.DataFrame(sorted(zip(gbm.feature_importance(),X.columns)), columns=['Value','Feature'])\n",
    "\n",
    "plt.figure(figsize=(20, 10))\n",
    "sns.barplot(x=\"Value\", y=\"Feature\", data=feature_imp.sort_values(by=\"Value\", ascending=False))\n",
    "plt.title('LightGBM Features (avg over folds)')\n",
    "plt.tight_layout()\n",
    "plt.show()\n",
    "# plt.savefig('lgbm_importances-01.png')"
   ]
  },
  {
   "cell_type": "markdown",
   "metadata": {},
   "source": [
    "# AUC score using small part of training data for evaluation"
   ]
  },
  {
   "cell_type": "code",
   "execution_count": 99,
   "metadata": {
    "scrolled": true
   },
   "outputs": [],
   "source": [
    "predictions_probs = gbm.predict(X_test)\n",
    "# keep probabilities for the positive outcome only\n",
    "pos_probs = predictions_probs"
   ]
  },
  {
   "cell_type": "code",
   "execution_count": 100,
   "metadata": {},
   "outputs": [],
   "source": [
    "threshold = 0.4 # threshold we set where the probability prediction must be above this to be classified as a '1'\n",
    "classes = predictions_probs.copy() # say it is the class in the second column you care about predictint\n",
    "classes[classes>=threshold] = 1\n",
    "classes[classes<threshold] = 0"
   ]
  },
  {
   "cell_type": "code",
   "execution_count": 101,
   "metadata": {},
   "outputs": [
    {
     "name": "stdout",
     "output_type": "stream",
     "text": [
      "Unique Values :  [0. 1.]\n",
      "Occurrence Count :  [108  59]\n"
     ]
    }
   ],
   "source": [
    "uniqueValues, occurCount = np.unique(classes, return_counts=True)\n",
    " \n",
    "print(\"Unique Values : \" , uniqueValues)\n",
    "print(\"Occurrence Count : \", occurCount)"
   ]
  },
  {
   "cell_type": "code",
   "execution_count": 102,
   "metadata": {},
   "outputs": [],
   "source": [
    "from sklearn import metrics"
   ]
  },
  {
   "cell_type": "code",
   "execution_count": 103,
   "metadata": {},
   "outputs": [],
   "source": [
    "fpr, tpr, thresholds = metrics.roc_curve(y_test, pos_probs, pos_label=1)"
   ]
  },
  {
   "cell_type": "code",
   "execution_count": 104,
   "metadata": {
    "scrolled": false
   },
   "outputs": [],
   "source": [
    "roc_auc = metrics.auc(fpr, tpr)"
   ]
  },
  {
   "cell_type": "code",
   "execution_count": 105,
   "metadata": {},
   "outputs": [],
   "source": [
    "lgb_auc = metrics.roc_auc_score(y_test, pos_probs)"
   ]
  },
  {
   "cell_type": "code",
   "execution_count": 106,
   "metadata": {},
   "outputs": [
    {
     "data": {
      "image/png": "[encoded data removed]",
      "text/plain": [
       "<Figure size 432x288 with 1 Axes>"
      ]
     },
     "metadata": {
      "needs_background": "light"
     },
     "output_type": "display_data"
    }
   ],
   "source": [
    "from matplotlib import pyplot\n",
    "lgb_fpr, lgb_tpr, _ = metrics.roc_curve(y_test, pos_probs)\n",
    "# plot the roc curve for the model\n",
    "pyplot.plot(lgb_fpr, lgb_tpr, marker='.', label='LightGBM')\n",
    "# axis labels\n",
    "pyplot.xlabel('False Positive Rate')\n",
    "pyplot.ylabel('True Positive Rate')\n",
    "# show the legend\n",
    "pyplot.legend()\n",
    "# show the plot\n",
    "pyplot.show()"
   ]
  },
  {
   "cell_type": "code",
   "execution_count": 107,
   "metadata": {
    "scrolled": true
   },
   "outputs": [
    {
     "data": {
      "text/plain": [
       "0.8357858009708738"
      ]
     },
     "execution_count": 107,
     "metadata": {},
     "output_type": "execute_result"
    }
   ],
   "source": [
    "lgb_auc"
   ]
  },
  {
   "cell_type": "markdown",
   "metadata": {},
   "source": [
    "# Modeling using all training data to predict test data"
   ]
  },
  {
   "cell_type": "code",
   "execution_count": 108,
   "metadata": {},
   "outputs": [],
   "source": [
    "import pandas as pd\n",
    "import numpy as np\n",
    "pd.set_option('display.max_columns', 500) "
   ]
  },
  {
   "cell_type": "code",
   "execution_count": 109,
   "metadata": {},
   "outputs": [],
   "source": [
    "X = train.drop(['Survived'], axis=1)\n",
    "y = train[['Survived']]"
   ]
  },
  {
   "cell_type": "code",
   "execution_count": 110,
   "metadata": {},
   "outputs": [],
   "source": [
    "from sklearn.model_selection import train_test_split\n",
    "\n",
    "X_train_sub, X_val_sub, y_train_sub, y_val_sub = train_test_split(X, y, train_size=0.75, random_state=1337,stratify=y)\n"
   ]
  },
  {
   "cell_type": "code",
   "execution_count": 111,
   "metadata": {},
   "outputs": [],
   "source": [
    "lgb_train = lgb.Dataset(X_train_sub, y_train_sub,\n",
    "                        free_raw_data=False)\n",
    "lgb_eval = lgb.Dataset(X_val_sub, y_val_sub, reference=lgb_train,\n",
    "                        free_raw_data=False)"
   ]
  },
  {
   "cell_type": "code",
   "execution_count": 112,
   "metadata": {},
   "outputs": [],
   "source": [
    "num_train, num_feature = X_train_sub.shape"
   ]
  },
  {
   "cell_type": "code",
   "execution_count": 113,
   "metadata": {},
   "outputs": [],
   "source": [
    "# generate feature names\n",
    "# feature_name = ['feature_' + str(col) for col in range(num_feature)]\n",
    "feature_name = X_train_sub.columns.tolist()"
   ]
  },
  {
   "cell_type": "code",
   "execution_count": 114,
   "metadata": {},
   "outputs": [],
   "source": [
    "categorical_features_indices = np.where(X.dtypes == \"category\")[0]"
   ]
  },
  {
   "cell_type": "code",
   "execution_count": 115,
   "metadata": {},
   "outputs": [],
   "source": [
    "# specify your configurations as a dict\n",
    "params = {\n",
    "    'boosting_type': 'gbdt',\n",
    "    'objective': 'binary',\n",
    "    'metric': 'binary_logloss',\n",
    "    'early_stopping_rounds' : 100,\n",
    "    'num_leaves': 31,\n",
    "    'learning_rate': 0.05,\n",
    "    'feature_fraction': 0.9,\n",
    "    'bagging_fraction': 0.8,\n",
    "    'bagging_freq': 5,\n",
    "    'verbose': 0\n",
    "}"
   ]
  },
  {
   "cell_type": "code",
   "execution_count": 116,
   "metadata": {},
   "outputs": [],
   "source": [
    "evals_result = {}  # to record eval results for plotting"
   ]
  },
  {
   "cell_type": "code",
   "execution_count": 117,
   "metadata": {},
   "outputs": [
    {
     "name": "stdout",
     "output_type": "stream",
     "text": [
      "Starting training...\n",
      "[1]\tvalid_0's binary_logloss: 0.656366\n",
      "Training until validation scores don't improve for 100 rounds\n",
      "[2]\tvalid_0's binary_logloss: 0.634991\n",
      "[3]\tvalid_0's binary_logloss: 0.627974\n",
      "[4]\tvalid_0's binary_logloss: 0.621207\n",
      "[5]\tvalid_0's binary_logloss: 0.603539\n",
      "[6]\tvalid_0's binary_logloss: 0.586319\n",
      "[7]\tvalid_0's binary_logloss: 0.571878\n",
      "[8]\tvalid_0's binary_logloss: 0.55829\n",
      "[9]\tvalid_0's binary_logloss: 0.554197\n",
      "[10]\tvalid_0's binary_logloss: 0.542461\n",
      "[11]\tvalid_0's binary_logloss: 0.531988\n",
      "[12]\tvalid_0's binary_logloss: 0.52245\n",
      "[13]\tvalid_0's binary_logloss: 0.51321\n",
      "[14]\tvalid_0's binary_logloss: 0.504413\n",
      "[15]\tvalid_0's binary_logloss: 0.501896\n",
      "[16]\tvalid_0's binary_logloss: 0.495227\n",
      "[17]\tvalid_0's binary_logloss: 0.489015\n",
      "[18]\tvalid_0's binary_logloss: 0.483537\n",
      "[19]\tvalid_0's binary_logloss: 0.478417\n",
      "[20]\tvalid_0's binary_logloss: 0.47434\n",
      "[21]\tvalid_0's binary_logloss: 0.468398\n",
      "[22]\tvalid_0's binary_logloss: 0.462952\n",
      "[23]\tvalid_0's binary_logloss: 0.458076\n",
      "[24]\tvalid_0's binary_logloss: 0.453712\n",
      "[25]\tvalid_0's binary_logloss: 0.452656\n",
      "[26]\tvalid_0's binary_logloss: 0.449731\n",
      "[27]\tvalid_0's binary_logloss: 0.446021\n",
      "[28]\tvalid_0's binary_logloss: 0.443468\n",
      "[29]\tvalid_0's binary_logloss: 0.442577\n",
      "[30]\tvalid_0's binary_logloss: 0.44014\n",
      "[31]\tvalid_0's binary_logloss: 0.439268\n",
      "[32]\tvalid_0's binary_logloss: 0.439103\n",
      "[33]\tvalid_0's binary_logloss: 0.438578\n",
      "[34]\tvalid_0's binary_logloss: 0.43827\n",
      "[35]\tvalid_0's binary_logloss: 0.438631\n",
      "[36]\tvalid_0's binary_logloss: 0.437086\n",
      "[37]\tvalid_0's binary_logloss: 0.435625\n",
      "[38]\tvalid_0's binary_logloss: 0.433288\n",
      "[39]\tvalid_0's binary_logloss: 0.432254\n",
      "[40]\tvalid_0's binary_logloss: 0.430393\n",
      "[41]\tvalid_0's binary_logloss: 0.430049\n",
      "[42]\tvalid_0's binary_logloss: 0.429858\n",
      "[43]\tvalid_0's binary_logloss: 0.429178\n",
      "[44]\tvalid_0's binary_logloss: 0.428096\n",
      "[45]\tvalid_0's binary_logloss: 0.428041\n",
      "[46]\tvalid_0's binary_logloss: 0.426302\n",
      "[47]\tvalid_0's binary_logloss: 0.42342\n",
      "[48]\tvalid_0's binary_logloss: 0.422961\n",
      "[49]\tvalid_0's binary_logloss: 0.420334\n",
      "[50]\tvalid_0's binary_logloss: 0.419308\n",
      "[51]\tvalid_0's binary_logloss: 0.421306\n",
      "[52]\tvalid_0's binary_logloss: 0.421747\n",
      "[53]\tvalid_0's binary_logloss: 0.422838\n",
      "[54]\tvalid_0's binary_logloss: 0.423519\n",
      "[55]\tvalid_0's binary_logloss: 0.423061\n",
      "[56]\tvalid_0's binary_logloss: 0.422947\n",
      "[57]\tvalid_0's binary_logloss: 0.422881\n",
      "[58]\tvalid_0's binary_logloss: 0.421884\n",
      "[59]\tvalid_0's binary_logloss: 0.420785\n",
      "[60]\tvalid_0's binary_logloss: 0.420756\n",
      "[61]\tvalid_0's binary_logloss: 0.418748\n",
      "[62]\tvalid_0's binary_logloss: 0.419367\n",
      "[63]\tvalid_0's binary_logloss: 0.418535\n",
      "[64]\tvalid_0's binary_logloss: 0.418948\n",
      "[65]\tvalid_0's binary_logloss: 0.417304\n",
      "[66]\tvalid_0's binary_logloss: 0.418458\n",
      "[67]\tvalid_0's binary_logloss: 0.417699\n",
      "[68]\tvalid_0's binary_logloss: 0.41747\n",
      "[69]\tvalid_0's binary_logloss: 0.417688"
     ]
    },
    {
     "name": "stderr",
     "output_type": "stream",
     "text": [
      "C:\\Users\\willy\\anaconda3\\lib\\site-packages\\lightgbm\\engine.py:153: UserWarning: Found `early_stopping_rounds` in params. Will use it instead of argument\n",
      "  warnings.warn(\"Found `{}` in params. Will use it instead of argument\".format(alias))\n",
      "C:\\Users\\willy\\anaconda3\\lib\\site-packages\\lightgbm\\basic.py:1295: UserWarning: categorical_feature in Dataset is overridden.\n",
      "New categorical_feature is [1, 2, 6, 8, 9]\n",
      "  'New categorical_feature is {}'.format(sorted(list(categorical_feature))))\n"
     ]
    },
    {
     "name": "stdout",
     "output_type": "stream",
     "text": [
      "\n",
      "[70]\tvalid_0's binary_logloss: 0.416893\n",
      "[71]\tvalid_0's binary_logloss: 0.416565\n",
      "[72]\tvalid_0's binary_logloss: 0.416254\n",
      "[73]\tvalid_0's binary_logloss: 0.414791\n",
      "[74]\tvalid_0's binary_logloss: 0.412844\n",
      "[75]\tvalid_0's binary_logloss: 0.411743\n",
      "[76]\tvalid_0's binary_logloss: 0.412103\n",
      "[77]\tvalid_0's binary_logloss: 0.411086\n",
      "[78]\tvalid_0's binary_logloss: 0.410232\n",
      "[79]\tvalid_0's binary_logloss: 0.41014\n",
      "[80]\tvalid_0's binary_logloss: 0.409852\n",
      "[81]\tvalid_0's binary_logloss: 0.408979\n",
      "[82]\tvalid_0's binary_logloss: 0.40802\n",
      "[83]\tvalid_0's binary_logloss: 0.408136\n",
      "[84]\tvalid_0's binary_logloss: 0.408347\n",
      "[85]\tvalid_0's binary_logloss: 0.408002\n",
      "[86]\tvalid_0's binary_logloss: 0.408436\n",
      "[87]\tvalid_0's binary_logloss: 0.407872\n",
      "[88]\tvalid_0's binary_logloss: 0.408728\n",
      "[89]\tvalid_0's binary_logloss: 0.408526\n",
      "[90]\tvalid_0's binary_logloss: 0.409117\n",
      "[91]\tvalid_0's binary_logloss: 0.409446\n",
      "[92]\tvalid_0's binary_logloss: 0.409914\n",
      "[93]\tvalid_0's binary_logloss: 0.408808\n",
      "[94]\tvalid_0's binary_logloss: 0.40832\n",
      "[95]\tvalid_0's binary_logloss: 0.40664\n",
      "[96]\tvalid_0's binary_logloss: 0.408251\n",
      "[97]\tvalid_0's binary_logloss: 0.409215\n",
      "[98]\tvalid_0's binary_logloss: 0.410313\n",
      "[99]\tvalid_0's binary_logloss: 0.409172\n",
      "[100]\tvalid_0's binary_logloss: 0.409098\n",
      "[101]\tvalid_0's binary_logloss: 0.40985\n",
      "[102]\tvalid_0's binary_logloss: 0.410577\n",
      "[103]\tvalid_0's binary_logloss: 0.411251\n",
      "[104]\tvalid_0's binary_logloss: 0.411906\n",
      "[105]\tvalid_0's binary_logloss: 0.412581\n",
      "[106]\tvalid_0's binary_logloss: 0.411751\n",
      "[107]\tvalid_0's binary_logloss: 0.411075\n",
      "[108]\tvalid_0's binary_logloss: 0.411558\n",
      "[109]\tvalid_0's binary_logloss: 0.411854\n",
      "[110]\tvalid_0's binary_logloss: 0.412293\n",
      "[111]\tvalid_0's binary_logloss: 0.411075\n",
      "[112]\tvalid_0's binary_logloss: 0.409908\n",
      "[113]\tvalid_0's binary_logloss: 0.40888\n",
      "[114]\tvalid_0's binary_logloss: 0.408508\n",
      "[115]\tvalid_0's binary_logloss: 0.407364\n",
      "[116]\tvalid_0's binary_logloss: 0.407688\n",
      "[117]\tvalid_0's binary_logloss: 0.408802\n",
      "[118]\tvalid_0's binary_logloss: 0.409742\n",
      "[119]\tvalid_0's binary_logloss: 0.410868\n",
      "[120]\tvalid_0's binary_logloss: 0.411484\n",
      "[121]\tvalid_0's binary_logloss: 0.412057\n",
      "[122]\tvalid_0's binary_logloss: 0.412529\n",
      "[123]\tvalid_0's binary_logloss: 0.413221\n",
      "[124]\tvalid_0's binary_logloss: 0.414995\n",
      "[125]\tvalid_0's binary_logloss: 0.415749\n",
      "[126]\tvalid_0's binary_logloss: 0.41494\n",
      "[127]\tvalid_0's binary_logloss: 0.414766\n",
      "[128]\tvalid_0's binary_logloss: 0.414704\n",
      "[129]\tvalid_0's binary_logloss: 0.413749\n",
      "[130]\tvalid_0's binary_logloss: 0.413663\n",
      "[131]\tvalid_0's binary_logloss: 0.412022\n",
      "[132]\tvalid_0's binary_logloss: 0.410882\n",
      "[133]\tvalid_0's binary_logloss: 0.412077\n",
      "[134]\tvalid_0's binary_logloss: 0.41329\n",
      "[135]\tvalid_0's binary_logloss: 0.412311\n",
      "[136]\tvalid_0's binary_logloss: 0.412171\n",
      "[137]\tvalid_0's binary_logloss: 0.411554\n",
      "[138]\tvalid_0's binary_logloss: 0.411056\n",
      "[139]\tvalid_0's binary_logloss: 0.411104\n",
      "[140]\tvalid_0's binary_logloss: 0.410262\n",
      "[141]\tvalid_0's binary_logloss: 0.410142\n",
      "[142]\tvalid_0's binary_logloss: 0.40935\n",
      "[143]\tvalid_0's binary_logloss: 0.408981\n",
      "[144]\tvalid_0's binary_logloss: 0.408453\n",
      "[145]\tvalid_0's binary_logloss: 0.408234\n",
      "[146]\tvalid_0's binary_logloss: 0.40966\n",
      "[147]\tvalid_0's binary_logloss: 0.41125\n",
      "[148]\tvalid_0's binary_logloss: 0.412572\n",
      "[149]\tvalid_0's binary_logloss: 0.414157\n",
      "[150]\tvalid_0's binary_logloss: 0.41608\n",
      "[151]\tvalid_0's binary_logloss: 0.416344\n",
      "[152]\tvalid_0's binary_logloss: 0.415619\n",
      "[153]\tvalid_0's binary_logloss: 0.415801\n",
      "[154]\tvalid_0's binary_logloss: 0.416551\n",
      "[155]\tvalid_0's binary_logloss: 0.416889\n",
      "[156]\tvalid_0's binary_logloss: 0.41704\n",
      "[157]\tvalid_0's binary_logloss: 0.418138\n",
      "[158]\tvalid_0's binary_logloss: 0.419558\n",
      "[159]\tvalid_0's binary_logloss: 0.420851\n",
      "[160]\tvalid_0's binary_logloss: 0.422508\n",
      "[161]\tvalid_0's binary_logloss: 0.420793\n",
      "[162]\tvalid_0's binary_logloss: 0.41945\n",
      "[163]\tvalid_0's binary_logloss: 0.418597\n",
      "[164]\tvalid_0's binary_logloss: 0.417159\n",
      "[165]\tvalid_0's binary_logloss: 0.416338\n",
      "[166]\tvalid_0's binary_logloss: 0.416433\n",
      "[167]\tvalid_0's binary_logloss: 0.4175\n",
      "[168]\tvalid_0's binary_logloss: 0.417283\n",
      "[169]\tvalid_0's binary_logloss: 0.417911\n",
      "[170]\tvalid_0's binary_logloss: 0.41776\n",
      "[171]\tvalid_0's binary_logloss: 0.418331\n",
      "[172]\tvalid_0's binary_logloss: 0.417293\n",
      "[173]\tvalid_0's binary_logloss: 0.417635\n",
      "[174]\tvalid_0's binary_logloss: 0.417985\n",
      "[175]\tvalid_0's binary_logloss: 0.417649\n",
      "[176]\tvalid_0's binary_logloss: 0.418201\n",
      "[177]\tvalid_0's binary_logloss: 0.416968\n",
      "[178]\tvalid_0's binary_logloss: 0.416614\n",
      "[179]\tvalid_0's binary_logloss: 0.416776\n",
      "[180]\tvalid_0's binary_logloss: 0.416611\n",
      "[181]\tvalid_0's binary_logloss: 0.416711\n",
      "[182]\tvalid_0's binary_logloss: 0.417544\n",
      "[183]\tvalid_0's binary_logloss: 0.416657\n",
      "[184]\tvalid_0's binary_logloss: 0.417321\n",
      "[185]\tvalid_0's binary_logloss: 0.416868\n",
      "[186]\tvalid_0's binary_logloss: 0.416577\n",
      "[187]\tvalid_0's binary_logloss: 0.41675\n",
      "[188]\tvalid_0's binary_logloss: 0.416388\n",
      "[189]\tvalid_0's binary_logloss: 0.416178\n",
      "[190]\tvalid_0's binary_logloss: 0.416134\n",
      "[191]\tvalid_0's binary_logloss: 0.41797\n",
      "[192]\tvalid_0's binary_logloss: 0.419419\n",
      "[193]\tvalid_0's binary_logloss: 0.419676\n",
      "[194]\tvalid_0's binary_logloss: 0.420381\n",
      "[195]\tvalid_0's binary_logloss: 0.421863\n",
      "Early stopping, best iteration is:\n",
      "[95]\tvalid_0's binary_logloss: 0.40664\n",
      "Wall time: 388 ms\n"
     ]
    }
   ],
   "source": [
    "%%time\n",
    "print('Starting training...')\n",
    "# feature_name and categorical_feature\n",
    "final_model = lgb.train(params,\n",
    "                lgb_train,\n",
    "                num_boost_round=1000,\n",
    "                valid_sets=lgb_eval,  # eval training data\n",
    "                feature_name=feature_name,\n",
    "                categorical_feature=categorical_features_indices.tolist(),\n",
    "                evals_result=evals_result\n",
    "               )"
   ]
  },
  {
   "cell_type": "code",
   "execution_count": null,
   "metadata": {},
   "outputs": [],
   "source": []
  },
  {
   "cell_type": "code",
   "execution_count": 118,
   "metadata": {},
   "outputs": [
    {
     "name": "stdout",
     "output_type": "stream",
     "text": [
      "Feature names: ['Pclass', 'Name', 'Sex', 'Age', 'SibSp', 'Parch', 'Ticket', 'Fare', 'Cabin', 'Embarked']\n",
      "Feature importances: [91, 0, 84, 476, 52, 39, 0, 481, 51, 78]\n"
     ]
    }
   ],
   "source": [
    "# feature names\n",
    "print('Feature names:', final_model.feature_name())\n",
    "\n",
    "# feature importances\n",
    "print('Feature importances:', list(final_model.feature_importance()))"
   ]
  },
  {
   "cell_type": "markdown",
   "metadata": {},
   "source": [
    "feature importance plot"
   ]
  },
  {
   "cell_type": "code",
   "execution_count": 119,
   "metadata": {},
   "outputs": [],
   "source": [
    "if lgb.compat.MATPLOTLIB_INSTALLED:\n",
    "    import matplotlib.pyplot as plt\n",
    "else:\n",
    "    raise ImportError('You need to install matplotlib for plot_example.py.')"
   ]
  },
  {
   "cell_type": "code",
   "execution_count": 120,
   "metadata": {
    "scrolled": true
   },
   "outputs": [
    {
     "name": "stdout",
     "output_type": "stream",
     "text": [
      "Plotting metrics recorded during training...\n"
     ]
    },
    {
     "data": {
      "image/png": "[encoded data removed]",
      "text/plain": [
       "<Figure size 432x288 with 1 Axes>"
      ]
     },
     "metadata": {
      "needs_background": "light"
     },
     "output_type": "display_data"
    }
   ],
   "source": [
    "print('Plotting metrics recorded during training...')\n",
    "ax = lgb.plot_metric(evals_result, metric='binary_logloss')\n",
    "plt.show()\n"
   ]
  },
  {
   "cell_type": "code",
   "execution_count": 134,
   "metadata": {
    "scrolled": false
   },
   "outputs": [
    {
     "data": {
      "image/png": "[encoded data removed]",
      "text/plain": [
       "<Figure size 1440x720 with 1 Axes>"
      ]
     },
     "metadata": {
      "needs_background": "light"
     },
     "output_type": "display_data"
    }
   ],
   "source": [
    "# more beautiful plot code\n",
    "\n",
    "import matplotlib.pyplot as plt\n",
    "import seaborn as sns\n",
    "import warnings\n",
    "warnings.simplefilter(action='ignore', category=FutureWarning)\n",
    "\n",
    "# sorted(zip(clf.feature_importances_, X.columns), reverse=True)\n",
    "feature_imp = pd.DataFrame(sorted(zip(final_model.feature_importance(),X.columns)), columns=['Value','Feature'])\n",
    "\n",
    "plt.figure(figsize=(20, 10))\n",
    "sns.barplot(x=\"Value\", y=\"Feature\", data=feature_imp.sort_values(by=\"Value\", ascending=False))\n",
    "plt.title('LightGBM Features')\n",
    "plt.tight_layout()\n",
    "plt.show()\n",
    "# plt.savefig('lgbm_importances-01.png')"
   ]
  },
  {
   "cell_type": "markdown",
   "metadata": {},
   "source": [
    "# Test dataset AUC score"
   ]
  },
  {
   "cell_type": "code",
   "execution_count": 122,
   "metadata": {},
   "outputs": [],
   "source": [
    "X_test = test.drop(['Survived'], axis=1)\n",
    "y_test = test['Survived']"
   ]
  },
  {
   "cell_type": "code",
   "execution_count": 123,
   "metadata": {},
   "outputs": [],
   "source": [
    "predictions_probs = final_model.predict(X_test)\n",
    "# keep probabilities for the positive outcome only\n",
    "pos_probs = predictions_probs"
   ]
  },
  {
   "cell_type": "code",
   "execution_count": 124,
   "metadata": {},
   "outputs": [],
   "source": [
    "import statistics\n",
    "median_predict_value = statistics.median(pos_probs)"
   ]
  },
  {
   "cell_type": "code",
   "execution_count": 125,
   "metadata": {},
   "outputs": [
    {
     "data": {
      "text/plain": [
       "0    412\n",
       "1    256\n",
       "Name: Survived, dtype: int64"
      ]
     },
     "execution_count": 125,
     "metadata": {},
     "output_type": "execute_result"
    }
   ],
   "source": [
    "train['Survived'].value_counts()"
   ]
  },
  {
   "cell_type": "code",
   "execution_count": 126,
   "metadata": {},
   "outputs": [],
   "source": [
    "positive_ratio = 256/(412+256)"
   ]
  },
  {
   "cell_type": "code",
   "execution_count": 127,
   "metadata": {},
   "outputs": [],
   "source": [
    "threshold = positive_ratio # threshold we set where the probability prediction must be above this to be classified as a '1'\n",
    "classes = predictions_probs.copy() # say it is the class in the second column you care about predictint\n",
    "classes[classes>=threshold] = 1\n",
    "classes[classes<threshold] = 0"
   ]
  },
  {
   "cell_type": "code",
   "execution_count": 128,
   "metadata": {},
   "outputs": [
    {
     "name": "stdout",
     "output_type": "stream",
     "text": [
      "Unique Values :  [0. 1.]\n",
      "Occurrence Count :  [134  89]\n"
     ]
    }
   ],
   "source": [
    "uniqueValues, occurCount = np.unique(classes, return_counts=True)\n",
    " \n",
    "print(\"Unique Values : \" , uniqueValues)\n",
    "print(\"Occurrence Count : \", occurCount)"
   ]
  },
  {
   "cell_type": "code",
   "execution_count": 129,
   "metadata": {},
   "outputs": [],
   "source": [
    "from sklearn import metrics"
   ]
  },
  {
   "cell_type": "code",
   "execution_count": 130,
   "metadata": {},
   "outputs": [],
   "source": [
    "lgb_auc = metrics.roc_auc_score(y_test, pos_probs)"
   ]
  },
  {
   "cell_type": "code",
   "execution_count": 131,
   "metadata": {},
   "outputs": [
    {
     "data": {
      "image/png": "[encoded data removed]",
      "text/plain": [
       "<Figure size 432x288 with 1 Axes>"
      ]
     },
     "metadata": {
      "needs_background": "light"
     },
     "output_type": "display_data"
    }
   ],
   "source": [
    "from matplotlib import pyplot\n",
    "lgb_fpr, lgb_tpr, _ = metrics.roc_curve(y_test, pos_probs)\n",
    "# plot the roc curve for the model\n",
    "pyplot.plot(lgb_fpr, lgb_tpr, marker='.', label='LightGBM')\n",
    "# axis labels\n",
    "pyplot.xlabel('False Positive Rate')\n",
    "pyplot.ylabel('True Positive Rate')\n",
    "# show the legend\n",
    "pyplot.legend()\n",
    "# show the plot\n",
    "pyplot.show()"
   ]
  },
  {
   "cell_type": "code",
   "execution_count": 132,
   "metadata": {
    "scrolled": false
   },
   "outputs": [
    {
     "data": {
      "text/plain": [
       "0.8510439653709047"
      ]
     },
     "execution_count": 132,
     "metadata": {},
     "output_type": "execute_result"
    }
   ],
   "source": [
    "lgb_auc"
   ]
  },
  {
   "cell_type": "code",
   "execution_count": null,
   "metadata": {},
   "outputs": [],
   "source": []
  },
  {
   "cell_type": "markdown",
   "metadata": {},
   "source": [
    "# Submission file"
   ]
  },
  {
   "cell_type": "code",
   "execution_count": null,
   "metadata": {},
   "outputs": [],
   "source": [
    "# kaggle uses accuracy for this competition, but we want to use AUC"
   ]
  },
  {
   "cell_type": "code",
   "execution_count": 114,
   "metadata": {},
   "outputs": [],
   "source": [
    "# resultdf = pd.DataFrame(columns=['PassengerId', 'Survived'])"
   ]
  },
  {
   "cell_type": "code",
   "execution_count": null,
   "metadata": {},
   "outputs": [],
   "source": []
  },
  {
   "cell_type": "code",
   "execution_count": 115,
   "metadata": {},
   "outputs": [],
   "source": [
    "# resultdf['Id'] = test_id\n",
    "# resultdf['y'] = classes"
   ]
  },
  {
   "cell_type": "code",
   "execution_count": 116,
   "metadata": {},
   "outputs": [],
   "source": [
    "# resultdf.to_csv('./output/titanic/submission(lgbm,threshold = positive_ratio).csv',index=False)"
   ]
  },
  {
   "cell_type": "code",
   "execution_count": null,
   "metadata": {},
   "outputs": [],
   "source": [
    "# submit on https://www.kaggle.com/c/bank-marketing-uci/leaderboard#score"
   ]
  },
  {
   "cell_type": "code",
   "execution_count": null,
   "metadata": {},
   "outputs": [],
   "source": []
  }
 ],
 "metadata": {
  "kernelspec": {
   "display_name": "Python 3",
   "language": "python",
   "name": "python3"
  },
  "language_info": {
   "codemirror_mode": {
    "name": "ipython",
    "version": 3
   },
   "file_extension": ".py",
   "mimetype": "text/x-python",
   "name": "python",
   "nbconvert_exporter": "python",
   "pygments_lexer": "ipython3",
   "version": "3.7.6"
  }
 },
 "nbformat": 4,
 "nbformat_minor": 4
}
