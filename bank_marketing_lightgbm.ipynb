{
 "cells": [
  {
   "cell_type": "code",
   "execution_count": 1,
   "metadata": {},
   "outputs": [],
   "source": [
    "import pandas as pd\n",
    "train = pd.read_csv('./data/bank_marketing/bank.csv',sep=';')  \n",
    "test = pd.read_csv('./data/bank_marketing/test.csv')  \n",
    "test_id = test['Id']\n",
    "del test['Id']"
   ]
  },
  {
   "cell_type": "markdown",
   "metadata": {},
   "source": [
    "# No missing value"
   ]
  },
  {
   "cell_type": "markdown",
   "metadata": {},
   "source": [
    "# preprocessing"
   ]
  },
  {
   "cell_type": "code",
   "execution_count": 2,
   "metadata": {},
   "outputs": [],
   "source": [
    "train.loc[train['y'] =='no', 'y'] = '0'\n",
    "train.loc[train['y'] =='yes', 'y'] = '1'\n",
    "#turns to numerical 0 or 1 will fail?\n",
    "\n",
    "# make target column \"integer\"\n",
    "train['y'] = train['y'].astype('int64')"
   ]
  },
  {
   "cell_type": "code",
   "execution_count": 3,
   "metadata": {},
   "outputs": [],
   "source": [
    "train['day'] = train['day'].astype('object')\n",
    "test['day'] = test['day'].astype('object')"
   ]
  },
  {
   "cell_type": "markdown",
   "metadata": {},
   "source": [
    "## Categorical column encoding"
   ]
  },
  {
   "cell_type": "code",
   "execution_count": 4,
   "metadata": {
    "scrolled": true
   },
   "outputs": [],
   "source": [
    "import numpy as np"
   ]
  },
  {
   "cell_type": "code",
   "execution_count": 5,
   "metadata": {},
   "outputs": [],
   "source": [
    "cat_col_list = train.dtypes[train.dtypes == object].index.tolist()"
   ]
  },
  {
   "cell_type": "markdown",
   "metadata": {},
   "source": [
    "# Unseen test categorical column values\n",
    "solution: https://stackoverflow.com/questions/21057621/sklearn-labelencoder-with-never-seen-before-values"
   ]
  },
  {
   "cell_type": "code",
   "execution_count": 6,
   "metadata": {},
   "outputs": [],
   "source": [
    "from sklearn.preprocessing import LabelEncoder\n",
    "import numpy as np\n",
    "\n",
    "\n",
    "class LabelEncoderExt(object):\n",
    "    def __init__(self):\n",
    "        \"\"\"\n",
    "        It differs from LabelEncoder by handling new classes and providing a value for it [Unknown]\n",
    "        Unknown will be added in fit and transform will take care of new item. It gives unknown class id\n",
    "        \"\"\"\n",
    "        self.label_encoder = LabelEncoder()\n",
    "        # self.classes_ = self.label_encoder.classes_\n",
    "\n",
    "    def fit(self, data_list):\n",
    "        \"\"\"\n",
    "        This will fit the encoder for all the unique values and introduce unknown value\n",
    "        :param data_list: A list of string\n",
    "        :return: self\n",
    "        \"\"\"\n",
    "        self.label_encoder = self.label_encoder.fit(list(data_list) + ['Unknown'])\n",
    "        self.classes_ = self.label_encoder.classes_\n",
    "\n",
    "        return self\n",
    "\n",
    "    def transform(self, data_list):\n",
    "        \"\"\"\n",
    "        This will transform the data_list to id list where the new values get assigned to Unknown class\n",
    "        :param data_list:\n",
    "        :return:\n",
    "        \"\"\"\n",
    "        new_data_list = list(data_list)\n",
    "        for unique_item in np.unique(data_list):\n",
    "            if unique_item not in self.label_encoder.classes_:\n",
    "                new_data_list = ['Unknown' if x==unique_item else x for x in new_data_list]\n",
    "\n",
    "        return self.label_encoder.transform(new_data_list)"
   ]
  },
  {
   "cell_type": "code",
   "execution_count": 7,
   "metadata": {},
   "outputs": [
    {
     "name": "stdout",
     "output_type": "stream",
     "text": [
      "processing job\n",
      "processing marital\n",
      "processing education\n",
      "processing default\n",
      "processing housing\n",
      "processing loan\n",
      "processing contact\n",
      "processing day\n",
      "processing month\n",
      "processing poutcome\n"
     ]
    },
    {
     "name": "stderr",
     "output_type": "stream",
     "text": [
      "C:\\Users\\willy\\anaconda3\\lib\\site-packages\\ipykernel_launcher.py:33: FutureWarning: elementwise comparison failed; returning scalar instead, but in the future will perform elementwise comparison\n"
     ]
    }
   ],
   "source": [
    "#record the original value \n",
    "cat_col_ref_dict  = {}\n",
    "\n",
    "from sklearn.preprocessing import LabelEncoder\n",
    "le = LabelEncoderExt()\n",
    "for i in cat_col_list:\n",
    "    print(\"processing %s\" % i)\n",
    "    le.fit(train[i])\n",
    "    train[i] = le.transform(train[i])\n",
    "    test[i] = le.transform(test[i])\n",
    "    cat_col_ref_dict.update({i : le.classes_})"
   ]
  },
  {
   "cell_type": "code",
   "execution_count": 8,
   "metadata": {
    "scrolled": true
   },
   "outputs": [],
   "source": [
    "#making sure those cateogrical variables are dtype \"int32\"\n",
    "#and use label encoding\n",
    "for col in cat_col_list:\n",
    "    train[col] = train[col].astype('int32')\n",
    "    test[col] = test[col].astype('int32')"
   ]
  },
  {
   "cell_type": "code",
   "execution_count": null,
   "metadata": {},
   "outputs": [],
   "source": []
  },
  {
   "cell_type": "markdown",
   "metadata": {},
   "source": [
    "# Modeling using partial of training data"
   ]
  },
  {
   "cell_type": "code",
   "execution_count": 9,
   "metadata": {},
   "outputs": [],
   "source": [
    "import pandas as pd\n",
    "import numpy as np\n",
    "pd.set_option('display.max_columns', 500) "
   ]
  },
  {
   "cell_type": "code",
   "execution_count": 10,
   "metadata": {},
   "outputs": [],
   "source": [
    "X = train.drop(['y'], axis=1)\n",
    "y = train[['y']]"
   ]
  },
  {
   "cell_type": "code",
   "execution_count": 11,
   "metadata": {},
   "outputs": [],
   "source": [
    "from sklearn.model_selection import train_test_split\n",
    "\n",
    "X_train_and_val, X_test, y_train_and_val, y_test = train_test_split(X, y, train_size=0.75, random_state=1337,stratify=y)\n",
    "X_train, X_val, y_train, y_val = train_test_split(X_train_and_val, y_train_and_val, train_size=0.75, random_state=1337,stratify=y_train_and_val)"
   ]
  },
  {
   "cell_type": "code",
   "execution_count": 12,
   "metadata": {},
   "outputs": [],
   "source": [
    "import numpy as np\n",
    "import lightgbm as lgb"
   ]
  },
  {
   "cell_type": "code",
   "execution_count": 13,
   "metadata": {},
   "outputs": [],
   "source": [
    "lgb_train = lgb.Dataset(X_train, y_train,\n",
    "                        free_raw_data=False)\n",
    "lgb_eval = lgb.Dataset(X_val, y_val, reference=lgb_train,\n",
    "                        free_raw_data=False)"
   ]
  },
  {
   "cell_type": "code",
   "execution_count": 14,
   "metadata": {},
   "outputs": [],
   "source": [
    "num_train, num_feature = X_train.shape"
   ]
  },
  {
   "cell_type": "code",
   "execution_count": 15,
   "metadata": {},
   "outputs": [],
   "source": [
    "# generate feature names\n",
    "# feature_name = ['feature_' + str(col) for col in range(num_feature)]\n",
    "feature_name = X_train.columns.tolist()"
   ]
  },
  {
   "cell_type": "code",
   "execution_count": 16,
   "metadata": {},
   "outputs": [],
   "source": [
    "categorical_features_indices = np.where(X.dtypes == \"category\")[0]"
   ]
  },
  {
   "cell_type": "code",
   "execution_count": 17,
   "metadata": {},
   "outputs": [
    {
     "data": {
      "text/plain": [
       "array([], dtype=int64)"
      ]
     },
     "execution_count": 17,
     "metadata": {},
     "output_type": "execute_result"
    }
   ],
   "source": [
    "categorical_features_indices"
   ]
  },
  {
   "cell_type": "code",
   "execution_count": 18,
   "metadata": {},
   "outputs": [],
   "source": [
    "# specify your configurations as a dict\n",
    "params = {\n",
    "    'boosting_type': 'gbdt',\n",
    "    'objective': 'binary',\n",
    "    'metric': 'binary_logloss',\n",
    "    'early_stopping_rounds' : 100,\n",
    "#     'num_leaves': 31,\n",
    "#     'learning_rate': 0.05,\n",
    "#     'feature_fraction': 0.9,\n",
    "#     'bagging_fraction': 0.8,\n",
    "#     'bagging_freq': 5,\n",
    "    'verbose': 0\n",
    "}"
   ]
  },
  {
   "cell_type": "code",
   "execution_count": 19,
   "metadata": {},
   "outputs": [],
   "source": [
    "evals_result = {}  # to record eval results for plotting"
   ]
  },
  {
   "cell_type": "code",
   "execution_count": 20,
   "metadata": {},
   "outputs": [
    {
     "name": "stdout",
     "output_type": "stream",
     "text": [
      "Starting training...\n",
      "[1]\tvalid_0's binary_logloss: 0.3342\n",
      "Training until validation scores don't improve for 100 rounds\n",
      "[2]\tvalid_0's binary_logloss: 0.320574\n",
      "[3]\tvalid_0's binary_logloss: 0.310334\n",
      "[4]\tvalid_0's binary_logloss: 0.302389\n",
      "[5]\tvalid_0's binary_logloss: 0.295581\n",
      "[6]\tvalid_0's binary_logloss: 0.292033\n",
      "[7]\tvalid_0's binary_logloss: 0.286505\n",
      "[8]\tvalid_0's binary_logloss: 0.284161\n",
      "[9]\tvalid_0's binary_logloss: 0.280391\n",
      "[10]\tvalid_0's binary_logloss: 0.278998\n",
      "[11]\tvalid_0's binary_logloss: 0.277072\n",
      "[12]\tvalid_0's binary_logloss: 0.273177\n",
      "[13]\tvalid_0's binary_logloss: 0.272132\n",
      "[14]\tvalid_0's binary_logloss: 0.270532\n",
      "[15]\tvalid_0's binary_logloss: 0.26962\n",
      "[16]\tvalid_0's binary_logloss: 0.268291\n",
      "[17]\tvalid_0's binary_logloss: 0.267303\n",
      "[18]\tvalid_0's binary_logloss: 0.267263\n",
      "[19]\tvalid_0's binary_logloss: 0.264774\n",
      "[20]\tvalid_0's binary_logloss: 0.264053\n",
      "[21]\tvalid_0's binary_logloss: 0.263918\n",
      "[22]\tvalid_0's binary_logloss: 0.263425\n",
      "[23]\tvalid_0's binary_logloss: 0.263432\n",
      "[24]\tvalid_0's binary_logloss: 0.26225\n",
      "[25]\tvalid_0's binary_logloss: 0.261829\n",
      "[26]\tvalid_0's binary_logloss: 0.262\n",
      "[27]\tvalid_0's binary_logloss: 0.262728\n",
      "[28]\tvalid_0's binary_logloss: 0.262511\n",
      "[29]\tvalid_0's binary_logloss: 0.262627\n",
      "[30]\tvalid_0's binary_logloss: 0.262659\n",
      "[31]\tvalid_0's binary_logloss: 0.263029\n",
      "[32]\tvalid_0's binary_logloss: 0.262904\n",
      "[33]\tvalid_0's binary_logloss: 0.263353\n",
      "[34]\tvalid_0's binary_logloss: 0.262307\n",
      "[35]\tvalid_0's binary_logloss: 0.261949\n",
      "[36]\tvalid_0's binary_logloss: 0.262058\n",
      "[37]\tvalid_0's binary_logloss: 0.262921"
     ]
    },
    {
     "name": "stderr",
     "output_type": "stream",
     "text": [
      "C:\\Users\\willy\\anaconda3\\lib\\site-packages\\lightgbm\\engine.py:153: UserWarning: Found `early_stopping_rounds` in params. Will use it instead of argument\n",
      "  warnings.warn(\"Found `{}` in params. Will use it instead of argument\".format(alias))\n",
      "C:\\Users\\willy\\anaconda3\\lib\\site-packages\\lightgbm\\basic.py:1295: UserWarning: categorical_feature in Dataset is overridden.\n",
      "New categorical_feature is []\n",
      "  'New categorical_feature is {}'.format(sorted(list(categorical_feature))))\n"
     ]
    },
    {
     "name": "stdout",
     "output_type": "stream",
     "text": [
      "\n",
      "[38]\tvalid_0's binary_logloss: 0.263268\n",
      "[39]\tvalid_0's binary_logloss: 0.263259\n",
      "[40]\tvalid_0's binary_logloss: 0.264198\n",
      "[41]\tvalid_0's binary_logloss: 0.265289\n",
      "[42]\tvalid_0's binary_logloss: 0.265732\n",
      "[43]\tvalid_0's binary_logloss: 0.266825\n",
      "[44]\tvalid_0's binary_logloss: 0.267846\n",
      "[45]\tvalid_0's binary_logloss: 0.267162\n",
      "[46]\tvalid_0's binary_logloss: 0.268262\n",
      "[47]\tvalid_0's binary_logloss: 0.269099\n",
      "[48]\tvalid_0's binary_logloss: 0.269491\n",
      "[49]\tvalid_0's binary_logloss: 0.269152\n",
      "[50]\tvalid_0's binary_logloss: 0.270245\n",
      "[51]\tvalid_0's binary_logloss: 0.270964\n",
      "[52]\tvalid_0's binary_logloss: 0.271787\n",
      "[53]\tvalid_0's binary_logloss: 0.272688\n",
      "[54]\tvalid_0's binary_logloss: 0.273644\n",
      "[55]\tvalid_0's binary_logloss: 0.274765\n",
      "[56]\tvalid_0's binary_logloss: 0.275723\n",
      "[57]\tvalid_0's binary_logloss: 0.276143\n",
      "[58]\tvalid_0's binary_logloss: 0.276674\n",
      "[59]\tvalid_0's binary_logloss: 0.27658\n",
      "[60]\tvalid_0's binary_logloss: 0.277853\n",
      "[61]\tvalid_0's binary_logloss: 0.278355\n",
      "[62]\tvalid_0's binary_logloss: 0.27853\n",
      "[63]\tvalid_0's binary_logloss: 0.279723\n",
      "[64]\tvalid_0's binary_logloss: 0.280456\n",
      "[65]\tvalid_0's binary_logloss: 0.280985\n",
      "[66]\tvalid_0's binary_logloss: 0.281824\n",
      "[67]\tvalid_0's binary_logloss: 0.283178\n",
      "[68]\tvalid_0's binary_logloss: 0.283695\n",
      "[69]\tvalid_0's binary_logloss: 0.284235\n",
      "[70]\tvalid_0's binary_logloss: 0.283473\n",
      "[71]\tvalid_0's binary_logloss: 0.284887\n",
      "[72]\tvalid_0's binary_logloss: 0.285909\n",
      "[73]\tvalid_0's binary_logloss: 0.287384\n",
      "[74]\tvalid_0's binary_logloss: 0.28773\n",
      "[75]\tvalid_0's binary_logloss: 0.289362\n",
      "[76]\tvalid_0's binary_logloss: 0.289868\n",
      "[77]\tvalid_0's binary_logloss: 0.291153\n",
      "[78]\tvalid_0's binary_logloss: 0.291503\n",
      "[79]\tvalid_0's binary_logloss: 0.292736\n",
      "[80]\tvalid_0's binary_logloss: 0.293407\n",
      "[81]\tvalid_0's binary_logloss: 0.293774\n",
      "[82]\tvalid_0's binary_logloss: 0.293613\n",
      "[83]\tvalid_0's binary_logloss: 0.294482\n",
      "[84]\tvalid_0's binary_logloss: 0.295297\n",
      "[85]\tvalid_0's binary_logloss: 0.295275\n",
      "[86]\tvalid_0's binary_logloss: 0.295789\n",
      "[87]\tvalid_0's binary_logloss: 0.297151\n",
      "[88]\tvalid_0's binary_logloss: 0.29749\n",
      "[89]\tvalid_0's binary_logloss: 0.297913\n",
      "[90]\tvalid_0's binary_logloss: 0.297958\n",
      "[91]\tvalid_0's binary_logloss: 0.297936\n",
      "[92]\tvalid_0's binary_logloss: 0.297835\n",
      "[93]\tvalid_0's binary_logloss: 0.298229\n",
      "[94]\tvalid_0's binary_logloss: 0.299002\n",
      "[95]\tvalid_0's binary_logloss: 0.298552\n",
      "[96]\tvalid_0's binary_logloss: 0.299646\n",
      "[97]\tvalid_0's binary_logloss: 0.3003\n",
      "[98]\tvalid_0's binary_logloss: 0.300957\n",
      "[99]\tvalid_0's binary_logloss: 0.301672\n",
      "[100]\tvalid_0's binary_logloss: 0.303012\n",
      "[101]\tvalid_0's binary_logloss: 0.304854\n",
      "[102]\tvalid_0's binary_logloss: 0.305223\n",
      "[103]\tvalid_0's binary_logloss: 0.30632\n",
      "[104]\tvalid_0's binary_logloss: 0.307349\n",
      "[105]\tvalid_0's binary_logloss: 0.307044\n",
      "[106]\tvalid_0's binary_logloss: 0.307722\n",
      "[107]\tvalid_0's binary_logloss: 0.308402\n",
      "[108]\tvalid_0's binary_logloss: 0.308721\n",
      "[109]\tvalid_0's binary_logloss: 0.308415\n",
      "[110]\tvalid_0's binary_logloss: 0.30907\n",
      "[111]\tvalid_0's binary_logloss: 0.308792\n",
      "[112]\tvalid_0's binary_logloss: 0.309011\n",
      "[113]\tvalid_0's binary_logloss: 0.309857\n",
      "[114]\tvalid_0's binary_logloss: 0.310754\n",
      "[115]\tvalid_0's binary_logloss: 0.311091\n",
      "[116]\tvalid_0's binary_logloss: 0.311257\n",
      "[117]\tvalid_0's binary_logloss: 0.311848\n",
      "[118]\tvalid_0's binary_logloss: 0.312788\n",
      "[119]\tvalid_0's binary_logloss: 0.313607\n",
      "[120]\tvalid_0's binary_logloss: 0.314348\n",
      "[121]\tvalid_0's binary_logloss: 0.314382\n",
      "[122]\tvalid_0's binary_logloss: 0.314729\n",
      "[123]\tvalid_0's binary_logloss: 0.315736\n",
      "[124]\tvalid_0's binary_logloss: 0.316712\n",
      "[125]\tvalid_0's binary_logloss: 0.31741\n",
      "Early stopping, best iteration is:\n",
      "[25]\tvalid_0's binary_logloss: 0.261829\n",
      "Wall time: 432 ms\n"
     ]
    }
   ],
   "source": [
    "%%time\n",
    "print('Starting training...')\n",
    "# feature_name and categorical_feature\n",
    "gbm = lgb.train(params,\n",
    "                lgb_train,\n",
    "                num_boost_round=1000,\n",
    "                valid_sets=lgb_eval,  # eval training data\n",
    "                feature_name=feature_name,\n",
    "                categorical_feature=categorical_features_indices.tolist(),\n",
    "                evals_result=evals_result\n",
    "               )"
   ]
  },
  {
   "cell_type": "code",
   "execution_count": null,
   "metadata": {},
   "outputs": [],
   "source": []
  },
  {
   "cell_type": "code",
   "execution_count": 21,
   "metadata": {},
   "outputs": [
    {
     "name": "stdout",
     "output_type": "stream",
     "text": [
      "Feature names: ['age', 'job', 'marital', 'education', 'default', 'balance', 'housing', 'loan', 'contact', 'day', 'month', 'duration', 'campaign', 'pdays', 'previous', 'poutcome']\n",
      "Feature importances: [102, 41, 13, 24, 0, 119, 20, 5, 33, 0, 105, 154, 36, 67, 15, 16]\n"
     ]
    }
   ],
   "source": [
    "# feature names\n",
    "print('Feature names:', gbm.feature_name())\n",
    "\n",
    "# feature importances\n",
    "print('Feature importances:', list(gbm.feature_importance()))"
   ]
  },
  {
   "cell_type": "markdown",
   "metadata": {},
   "source": [
    "feature importance plot"
   ]
  },
  {
   "cell_type": "code",
   "execution_count": 22,
   "metadata": {},
   "outputs": [],
   "source": [
    "if lgb.compat.MATPLOTLIB_INSTALLED:\n",
    "    import matplotlib.pyplot as plt\n",
    "else:\n",
    "    raise ImportError('You need to install matplotlib for plot_example.py.')"
   ]
  },
  {
   "cell_type": "code",
   "execution_count": 23,
   "metadata": {},
   "outputs": [
    {
     "name": "stdout",
     "output_type": "stream",
     "text": [
      "Plotting metrics recorded during training...\n"
     ]
    },
    {
     "data": {
      "image/png": "[encoded data removed]",
      "text/plain": [
       "<Figure size 432x288 with 1 Axes>"
      ]
     },
     "metadata": {
      "needs_background": "light"
     },
     "output_type": "display_data"
    }
   ],
   "source": [
    "print('Plotting metrics recorded during training...')\n",
    "ax = lgb.plot_metric(evals_result, metric='binary_logloss')\n",
    "plt.show()\n"
   ]
  },
  {
   "cell_type": "code",
   "execution_count": 24,
   "metadata": {
    "scrolled": true
   },
   "outputs": [
    {
     "name": "stdout",
     "output_type": "stream",
     "text": [
      "Plotting feature importances...\n"
     ]
    },
    {
     "data": {
      "image/png": "[encoded data removed]",
      "text/plain": [
       "<Figure size 432x288 with 1 Axes>"
      ]
     },
     "metadata": {
      "needs_background": "light"
     },
     "output_type": "display_data"
    }
   ],
   "source": [
    "print('Plotting feature importances...')\n",
    "ax = lgb.plot_importance(gbm, max_num_features=10)\n",
    "plt.show()"
   ]
  },
  {
   "cell_type": "code",
   "execution_count": 25,
   "metadata": {
    "scrolled": false
   },
   "outputs": [
    {
     "data": {
      "image/png": "[encoded data removed]",
      "text/plain": [
       "<Figure size 1440x720 with 1 Axes>"
      ]
     },
     "metadata": {
      "needs_background": "light"
     },
     "output_type": "display_data"
    }
   ],
   "source": [
    "# more beautiful plot code\n",
    "\n",
    "import matplotlib.pyplot as plt\n",
    "import seaborn as sns\n",
    "import warnings\n",
    "warnings.simplefilter(action='ignore', category=FutureWarning)\n",
    "\n",
    "# sorted(zip(clf.feature_importances_, X.columns), reverse=True)\n",
    "feature_imp = pd.DataFrame(sorted(zip(gbm.feature_importance(),X.columns)), columns=['Value','Feature'])\n",
    "\n",
    "plt.figure(figsize=(20, 10))\n",
    "sns.barplot(x=\"Value\", y=\"Feature\", data=feature_imp.sort_values(by=\"Value\", ascending=False))\n",
    "plt.title('LightGBM Features (avg over folds)')\n",
    "plt.tight_layout()\n",
    "plt.show()\n",
    "# plt.savefig('lgbm_importances-01.png')"
   ]
  },
  {
   "cell_type": "markdown",
   "metadata": {},
   "source": [
    "# AUC score using small part of training data for evaluation"
   ]
  },
  {
   "cell_type": "code",
   "execution_count": 26,
   "metadata": {
    "scrolled": true
   },
   "outputs": [],
   "source": [
    "predictions_probs = gbm.predict(X_test)\n",
    "# keep probabilities for the positive outcome only\n",
    "pos_probs = predictions_probs"
   ]
  },
  {
   "cell_type": "code",
   "execution_count": 27,
   "metadata": {},
   "outputs": [],
   "source": [
    "import statistics\n",
    "median_predict_value = statistics.median(pos_probs)"
   ]
  },
  {
   "cell_type": "code",
   "execution_count": 28,
   "metadata": {},
   "outputs": [
    {
     "data": {
      "text/plain": [
       "0    4000\n",
       "1     521\n",
       "Name: y, dtype: int64"
      ]
     },
     "execution_count": 28,
     "metadata": {},
     "output_type": "execute_result"
    }
   ],
   "source": [
    "train['y'].value_counts()"
   ]
  },
  {
   "cell_type": "code",
   "execution_count": 29,
   "metadata": {},
   "outputs": [],
   "source": [
    "positive_ratio = 521/(4000+521)"
   ]
  },
  {
   "cell_type": "code",
   "execution_count": 30,
   "metadata": {},
   "outputs": [],
   "source": [
    "threshold = positive_ratio # threshold we set where the probability prediction must be above this to be classified as a '1'\n",
    "classes = predictions_probs.copy() # say it is the class in the second column you care about predictint\n",
    "classes[classes>=threshold] = 1\n",
    "classes[classes<threshold] = 0"
   ]
  },
  {
   "cell_type": "code",
   "execution_count": 31,
   "metadata": {},
   "outputs": [
    {
     "name": "stdout",
     "output_type": "stream",
     "text": [
      "Unique Values :  [0. 1.]\n",
      "Occurrence Count :  [847 284]\n"
     ]
    }
   ],
   "source": [
    "uniqueValues, occurCount = np.unique(classes, return_counts=True)\n",
    " \n",
    "print(\"Unique Values : \" , uniqueValues)\n",
    "print(\"Occurrence Count : \", occurCount)"
   ]
  },
  {
   "cell_type": "markdown",
   "metadata": {},
   "source": [
    "# AUC on probabilities"
   ]
  },
  {
   "cell_type": "code",
   "execution_count": 35,
   "metadata": {},
   "outputs": [],
   "source": [
    "from sklearn import metrics"
   ]
  },
  {
   "cell_type": "code",
   "execution_count": 36,
   "metadata": {
    "scrolled": true
   },
   "outputs": [],
   "source": [
    "lgb_auc = metrics.roc_auc_score(y_test, pos_probs)"
   ]
  },
  {
   "cell_type": "code",
   "execution_count": 37,
   "metadata": {},
   "outputs": [
    {
     "data": {
      "image/png": "[encoded data removed]",
      "text/plain": [
       "<Figure size 432x288 with 1 Axes>"
      ]
     },
     "metadata": {
      "needs_background": "light"
     },
     "output_type": "display_data"
    }
   ],
   "source": [
    "from matplotlib import pyplot\n",
    "lgb_fpr, lgb_tpr, _ = metrics.roc_curve(y_test, pos_probs)\n",
    "# plot the roc curve for the model\n",
    "pyplot.plot(lgb_fpr, lgb_tpr, marker='.', label='LightGBM')\n",
    "# axis labels\n",
    "pyplot.xlabel('False Positive Rate')\n",
    "pyplot.ylabel('True Positive Rate')\n",
    "# show the legend\n",
    "pyplot.legend()\n",
    "# show the plot\n",
    "pyplot.show()"
   ]
  },
  {
   "cell_type": "code",
   "execution_count": 38,
   "metadata": {
    "scrolled": true
   },
   "outputs": [
    {
     "data": {
      "text/plain": [
       "0.9143971413202182"
      ]
     },
     "execution_count": 38,
     "metadata": {},
     "output_type": "execute_result"
    }
   ],
   "source": [
    "lgb_auc"
   ]
  },
  {
   "cell_type": "markdown",
   "metadata": {},
   "source": [
    "# AUC on threshold = positive_ratio"
   ]
  },
  {
   "cell_type": "code",
   "execution_count": 39,
   "metadata": {},
   "outputs": [],
   "source": [
    "lgb_auc = metrics.roc_auc_score(y_test, classes)"
   ]
  },
  {
   "cell_type": "code",
   "execution_count": 40,
   "metadata": {},
   "outputs": [
    {
     "data": {
      "image/png": "[encoded data removed]",
      "text/plain": [
       "<Figure size 432x288 with 1 Axes>"
      ]
     },
     "metadata": {
      "needs_background": "light"
     },
     "output_type": "display_data"
    }
   ],
   "source": [
    "from matplotlib import pyplot\n",
    "lgb_fpr, lgb_tpr, _ = metrics.roc_curve(y_test, classes)\n",
    "# plot the roc curve for the model\n",
    "pyplot.plot(lgb_fpr, lgb_tpr, marker='.', label='CatBoost')\n",
    "# axis labels\n",
    "pyplot.xlabel('False Positive Rate')\n",
    "pyplot.ylabel('True Positive Rate')\n",
    "# show the legend\n",
    "pyplot.legend()\n",
    "# show the plot\n",
    "pyplot.show()"
   ]
  },
  {
   "cell_type": "code",
   "execution_count": 41,
   "metadata": {
    "scrolled": false
   },
   "outputs": [
    {
     "data": {
      "text/plain": [
       "0.8578921078921079"
      ]
     },
     "execution_count": 41,
     "metadata": {},
     "output_type": "execute_result"
    }
   ],
   "source": [
    "lgb_auc"
   ]
  },
  {
   "cell_type": "code",
   "execution_count": null,
   "metadata": {},
   "outputs": [],
   "source": []
  },
  {
   "cell_type": "markdown",
   "metadata": {},
   "source": [
    "# Modeling using all training data to predict test data"
   ]
  },
  {
   "cell_type": "code",
   "execution_count": 42,
   "metadata": {},
   "outputs": [],
   "source": [
    "import pandas as pd\n",
    "import numpy as np\n",
    "pd.set_option('display.max_columns', 500) "
   ]
  },
  {
   "cell_type": "code",
   "execution_count": 43,
   "metadata": {},
   "outputs": [],
   "source": [
    "X = train.drop(['y'], axis=1)\n",
    "y = train[['y']]"
   ]
  },
  {
   "cell_type": "code",
   "execution_count": 44,
   "metadata": {},
   "outputs": [],
   "source": [
    "from sklearn.model_selection import train_test_split\n",
    "\n",
    "X_train_sub, X_val_sub, y_train_sub, y_val_sub = train_test_split(X, y, train_size=0.75, random_state=1337,stratify=y)\n"
   ]
  },
  {
   "cell_type": "code",
   "execution_count": 45,
   "metadata": {},
   "outputs": [],
   "source": [
    "lgb_train = lgb.Dataset(X_train_sub, y_train_sub,\n",
    "                        free_raw_data=False)\n",
    "lgb_eval = lgb.Dataset(X_val_sub, y_val_sub, reference=lgb_train,\n",
    "                        free_raw_data=False)"
   ]
  },
  {
   "cell_type": "code",
   "execution_count": 46,
   "metadata": {},
   "outputs": [],
   "source": [
    "num_train, num_feature = X_train_sub.shape"
   ]
  },
  {
   "cell_type": "code",
   "execution_count": 47,
   "metadata": {},
   "outputs": [],
   "source": [
    "# generate feature names\n",
    "# feature_name = ['feature_' + str(col) for col in range(num_feature)]\n",
    "feature_name = X_train_sub.columns.tolist()"
   ]
  },
  {
   "cell_type": "code",
   "execution_count": 48,
   "metadata": {},
   "outputs": [],
   "source": [
    "categorical_features_indices = np.where(X.dtypes == \"category\")[0]"
   ]
  },
  {
   "cell_type": "code",
   "execution_count": 49,
   "metadata": {},
   "outputs": [],
   "source": [
    "# specify your configurations as a dict\n",
    "params = {\n",
    "    'boosting_type': 'gbdt',\n",
    "    'objective': 'binary',\n",
    "    'metric': 'binary_logloss',\n",
    "    'early_stopping_rounds' : 100,\n",
    "    'num_leaves': 31,\n",
    "    'learning_rate': 0.05,\n",
    "    'feature_fraction': 0.9,\n",
    "    'bagging_fraction': 0.8,\n",
    "    'bagging_freq': 5,\n",
    "    'verbose': 0\n",
    "}"
   ]
  },
  {
   "cell_type": "code",
   "execution_count": 50,
   "metadata": {},
   "outputs": [],
   "source": [
    "evals_result = {}  # to record eval results for plotting"
   ]
  },
  {
   "cell_type": "code",
   "execution_count": 63,
   "metadata": {},
   "outputs": [
    {
     "name": "stdout",
     "output_type": "stream",
     "text": [
      "Starting training...\n",
      "[1]\tvalid_0's binary_logloss: 0.34368\n",
      "Training until validation scores don't improve for 100 rounds\n",
      "[2]\tvalid_0's binary_logloss: 0.333426\n",
      "[3]\tvalid_0's binary_logloss: 0.328988\n",
      "[4]\tvalid_0's binary_logloss: 0.319788\n",
      "[5]\tvalid_0's binary_logloss: 0.31243\n",
      "[6]\tvalid_0's binary_logloss: 0.305554\n",
      "[7]\tvalid_0's binary_logloss: 0.299377\n",
      "[8]\tvalid_0's binary_logloss: 0.293522\n",
      "[9]\tvalid_0's binary_logloss: 0.289118\n",
      "[10]\tvalid_0's binary_logloss: 0.283187\n",
      "[11]\tvalid_0's binary_logloss: 0.278904\n",
      "[12]\tvalid_0's binary_logloss: 0.274074\n",
      "[13]\tvalid_0's binary_logloss: 0.269942\n",
      "[14]\tvalid_0's binary_logloss: 0.266031\n",
      "[15]\tvalid_0's binary_logloss: 0.262249\n",
      "[16]\tvalid_0's binary_logloss: 0.259024\n",
      "[17]\tvalid_0's binary_logloss: 0.256394\n",
      "[18]\tvalid_0's binary_logloss: 0.254328\n",
      "[19]\tvalid_0's binary_logloss: 0.251794\n",
      "[20]\tvalid_0's binary_logloss: 0.25018\n",
      "[21]\tvalid_0's binary_logloss: 0.248313\n",
      "[22]\tvalid_0's binary_logloss: 0.246884\n",
      "[23]\tvalid_0's binary_logloss: 0.245103\n",
      "[24]\tvalid_0's binary_logloss: 0.24348\n",
      "[25]\tvalid_0's binary_logloss: 0.241656\n",
      "[26]\tvalid_0's binary_logloss: 0.240545\n",
      "[27]\tvalid_0's binary_logloss: 0.239564\n",
      "[28]\tvalid_0's binary_logloss: 0.238083\n",
      "[29]\tvalid_0's binary_logloss: 0.237451\n",
      "[30]\tvalid_0's binary_logloss: 0.235992\n",
      "[31]\tvalid_0's binary_logloss: 0.234679\n",
      "[32]\tvalid_0's binary_logloss: 0.233375\n",
      "[33]\tvalid_0's binary_logloss: 0.232122\n",
      "[34]\tvalid_0's binary_logloss: 0.231276\n",
      "[35]\tvalid_0's binary_logloss: 0.230844\n",
      "[36]\tvalid_0's binary_logloss: 0.230719\n",
      "[37]\tvalid_0's binary_logloss: 0.230518\n",
      "[38]\tvalid_0's binary_logloss: 0.22983\n",
      "[39]\tvalid_0's binary_logloss: 0.229144\n"
     ]
    },
    {
     "name": "stderr",
     "output_type": "stream",
     "text": [
      "C:\\Users\\willy\\anaconda3\\lib\\site-packages\\lightgbm\\engine.py:153: UserWarning: Found `early_stopping_rounds` in params. Will use it instead of argument\n",
      "  warnings.warn(\"Found `{}` in params. Will use it instead of argument\".format(alias))\n"
     ]
    },
    {
     "name": "stdout",
     "output_type": "stream",
     "text": [
      "[40]\tvalid_0's binary_logloss: 0.228257\n",
      "[41]\tvalid_0's binary_logloss: 0.227549\n",
      "[42]\tvalid_0's binary_logloss: 0.226943\n",
      "[43]\tvalid_0's binary_logloss: 0.226681\n",
      "[44]\tvalid_0's binary_logloss: 0.225953\n",
      "[45]\tvalid_0's binary_logloss: 0.225254\n",
      "[46]\tvalid_0's binary_logloss: 0.224252\n",
      "[47]\tvalid_0's binary_logloss: 0.223978\n",
      "[48]\tvalid_0's binary_logloss: 0.223437\n",
      "[49]\tvalid_0's binary_logloss: 0.222892\n",
      "[50]\tvalid_0's binary_logloss: 0.22229\n",
      "[51]\tvalid_0's binary_logloss: 0.221632\n",
      "[52]\tvalid_0's binary_logloss: 0.220896\n",
      "[53]\tvalid_0's binary_logloss: 0.220527\n",
      "[54]\tvalid_0's binary_logloss: 0.22047\n",
      "[55]\tvalid_0's binary_logloss: 0.220237\n",
      "[56]\tvalid_0's binary_logloss: 0.219813\n",
      "[57]\tvalid_0's binary_logloss: 0.219616\n",
      "[58]\tvalid_0's binary_logloss: 0.219446\n",
      "[59]\tvalid_0's binary_logloss: 0.219055\n",
      "[60]\tvalid_0's binary_logloss: 0.218602\n",
      "[61]\tvalid_0's binary_logloss: 0.218559\n",
      "[62]\tvalid_0's binary_logloss: 0.218411\n",
      "[63]\tvalid_0's binary_logloss: 0.21803\n",
      "[64]\tvalid_0's binary_logloss: 0.217742\n",
      "[65]\tvalid_0's binary_logloss: 0.217783\n",
      "[66]\tvalid_0's binary_logloss: 0.217418\n",
      "[67]\tvalid_0's binary_logloss: 0.217845\n",
      "[68]\tvalid_0's binary_logloss: 0.217705\n",
      "[69]\tvalid_0's binary_logloss: 0.217887\n",
      "[70]\tvalid_0's binary_logloss: 0.217661\n",
      "[71]\tvalid_0's binary_logloss: 0.217478\n",
      "[72]\tvalid_0's binary_logloss: 0.217592\n",
      "[73]\tvalid_0's binary_logloss: 0.217869\n",
      "[74]\tvalid_0's binary_logloss: 0.217892\n",
      "[75]\tvalid_0's binary_logloss: 0.217732\n",
      "[76]\tvalid_0's binary_logloss: 0.217418\n",
      "[77]\tvalid_0's binary_logloss: 0.217117\n",
      "[78]\tvalid_0's binary_logloss: 0.217026\n",
      "[79]\tvalid_0's binary_logloss: 0.216832\n",
      "[80]\tvalid_0's binary_logloss: 0.216732\n",
      "[81]\tvalid_0's binary_logloss: 0.216831\n",
      "[82]\tvalid_0's binary_logloss: 0.216342\n",
      "[83]\tvalid_0's binary_logloss: 0.216111\n",
      "[84]\tvalid_0's binary_logloss: 0.21613\n",
      "[85]\tvalid_0's binary_logloss: 0.215974\n",
      "[86]\tvalid_0's binary_logloss: 0.215961\n",
      "[87]\tvalid_0's binary_logloss: 0.216536\n",
      "[88]\tvalid_0's binary_logloss: 0.216529\n",
      "[89]\tvalid_0's binary_logloss: 0.216344\n",
      "[90]\tvalid_0's binary_logloss: 0.216473\n",
      "[91]\tvalid_0's binary_logloss: 0.216561\n",
      "[92]\tvalid_0's binary_logloss: 0.21645\n",
      "[93]\tvalid_0's binary_logloss: 0.216105\n",
      "[94]\tvalid_0's binary_logloss: 0.216037\n",
      "[95]\tvalid_0's binary_logloss: 0.216144\n",
      "[96]\tvalid_0's binary_logloss: 0.215927\n",
      "[97]\tvalid_0's binary_logloss: 0.216011\n",
      "[98]\tvalid_0's binary_logloss: 0.216122\n",
      "[99]\tvalid_0's binary_logloss: 0.215749\n",
      "[100]\tvalid_0's binary_logloss: 0.215869\n",
      "[101]\tvalid_0's binary_logloss: 0.215586\n",
      "[102]\tvalid_0's binary_logloss: 0.215418\n",
      "[103]\tvalid_0's binary_logloss: 0.215417\n",
      "[104]\tvalid_0's binary_logloss: 0.215385\n",
      "[105]\tvalid_0's binary_logloss: 0.215313\n",
      "[106]\tvalid_0's binary_logloss: 0.215381\n",
      "[107]\tvalid_0's binary_logloss: 0.21559\n",
      "[108]\tvalid_0's binary_logloss: 0.215694\n",
      "[109]\tvalid_0's binary_logloss: 0.215604\n",
      "[110]\tvalid_0's binary_logloss: 0.216138\n",
      "[111]\tvalid_0's binary_logloss: 0.216037\n",
      "[112]\tvalid_0's binary_logloss: 0.216171\n",
      "[113]\tvalid_0's binary_logloss: 0.216245\n",
      "[114]\tvalid_0's binary_logloss: 0.216627\n",
      "[115]\tvalid_0's binary_logloss: 0.216582\n",
      "[116]\tvalid_0's binary_logloss: 0.216666\n",
      "[117]\tvalid_0's binary_logloss: 0.216765\n",
      "[118]\tvalid_0's binary_logloss: 0.217052\n",
      "[119]\tvalid_0's binary_logloss: 0.217457\n",
      "[120]\tvalid_0's binary_logloss: 0.217668\n",
      "[121]\tvalid_0's binary_logloss: 0.217972\n",
      "[122]\tvalid_0's binary_logloss: 0.218382\n",
      "[123]\tvalid_0's binary_logloss: 0.21869\n",
      "[124]\tvalid_0's binary_logloss: 0.219195\n",
      "[125]\tvalid_0's binary_logloss: 0.219502\n",
      "[126]\tvalid_0's binary_logloss: 0.219919\n",
      "[127]\tvalid_0's binary_logloss: 0.220314\n",
      "[128]\tvalid_0's binary_logloss: 0.220681\n",
      "[129]\tvalid_0's binary_logloss: 0.221147\n",
      "[130]\tvalid_0's binary_logloss: 0.221446\n",
      "[131]\tvalid_0's binary_logloss: 0.221221\n",
      "[132]\tvalid_0's binary_logloss: 0.221093\n",
      "[133]\tvalid_0's binary_logloss: 0.221138\n",
      "[134]\tvalid_0's binary_logloss: 0.221153\n",
      "[135]\tvalid_0's binary_logloss: 0.221195\n",
      "[136]\tvalid_0's binary_logloss: 0.221476\n",
      "[137]\tvalid_0's binary_logloss: 0.221568\n",
      "[138]\tvalid_0's binary_logloss: 0.221941\n",
      "[139]\tvalid_0's binary_logloss: 0.222154\n",
      "[140]\tvalid_0's binary_logloss: 0.222527\n",
      "[141]\tvalid_0's binary_logloss: 0.223077\n",
      "[142]\tvalid_0's binary_logloss: 0.222928\n",
      "[143]\tvalid_0's binary_logloss: 0.223424\n",
      "[144]\tvalid_0's binary_logloss: 0.223336\n",
      "[145]\tvalid_0's binary_logloss: 0.223631\n",
      "[146]\tvalid_0's binary_logloss: 0.223813\n",
      "[147]\tvalid_0's binary_logloss: 0.223753\n",
      "[148]\tvalid_0's binary_logloss: 0.223618\n",
      "[149]\tvalid_0's binary_logloss: 0.223801\n",
      "[150]\tvalid_0's binary_logloss: 0.224035\n",
      "[151]\tvalid_0's binary_logloss: 0.224455\n",
      "[152]\tvalid_0's binary_logloss: 0.224442\n",
      "[153]\tvalid_0's binary_logloss: 0.224563\n",
      "[154]\tvalid_0's binary_logloss: 0.225254\n",
      "[155]\tvalid_0's binary_logloss: 0.225416\n",
      "[156]\tvalid_0's binary_logloss: 0.225575\n",
      "[157]\tvalid_0's binary_logloss: 0.2257\n",
      "[158]\tvalid_0's binary_logloss: 0.225697\n",
      "[159]\tvalid_0's binary_logloss: 0.225851\n",
      "[160]\tvalid_0's binary_logloss: 0.226385\n",
      "[161]\tvalid_0's binary_logloss: 0.226536\n",
      "[162]\tvalid_0's binary_logloss: 0.226602\n",
      "[163]\tvalid_0's binary_logloss: 0.226568\n",
      "[164]\tvalid_0's binary_logloss: 0.226474\n",
      "[165]\tvalid_0's binary_logloss: 0.226326\n",
      "[166]\tvalid_0's binary_logloss: 0.226628\n",
      "[167]\tvalid_0's binary_logloss: 0.226796\n",
      "[168]\tvalid_0's binary_logloss: 0.226577\n",
      "[169]\tvalid_0's binary_logloss: 0.226695\n",
      "[170]\tvalid_0's binary_logloss: 0.227092\n",
      "[171]\tvalid_0's binary_logloss: 0.226926\n",
      "[172]\tvalid_0's binary_logloss: 0.227202\n",
      "[173]\tvalid_0's binary_logloss: 0.227656\n",
      "[174]\tvalid_0's binary_logloss: 0.227986\n",
      "[175]\tvalid_0's binary_logloss: 0.227809\n",
      "[176]\tvalid_0's binary_logloss: 0.228229\n",
      "[177]\tvalid_0's binary_logloss: 0.228535\n",
      "[178]\tvalid_0's binary_logloss: 0.22876\n",
      "[179]\tvalid_0's binary_logloss: 0.228951\n",
      "[180]\tvalid_0's binary_logloss: 0.229355\n",
      "[181]\tvalid_0's binary_logloss: 0.229239\n",
      "[182]\tvalid_0's binary_logloss: 0.228974\n",
      "[183]\tvalid_0's binary_logloss: 0.229298\n",
      "[184]\tvalid_0's binary_logloss: 0.229786\n",
      "[185]\tvalid_0's binary_logloss: 0.229783\n",
      "[186]\tvalid_0's binary_logloss: 0.229955\n",
      "[187]\tvalid_0's binary_logloss: 0.230125\n",
      "[188]\tvalid_0's binary_logloss: 0.230472\n",
      "[189]\tvalid_0's binary_logloss: 0.230532\n",
      "[190]\tvalid_0's binary_logloss: 0.23035\n",
      "[191]\tvalid_0's binary_logloss: 0.230347\n",
      "[192]\tvalid_0's binary_logloss: 0.230175\n",
      "[193]\tvalid_0's binary_logloss: 0.229941\n",
      "[194]\tvalid_0's binary_logloss: 0.229891\n",
      "[195]\tvalid_0's binary_logloss: 0.229701\n",
      "[196]\tvalid_0's binary_logloss: 0.229911\n",
      "[197]\tvalid_0's binary_logloss: 0.230248\n",
      "[198]\tvalid_0's binary_logloss: 0.230296\n",
      "[199]\tvalid_0's binary_logloss: 0.230505\n",
      "[200]\tvalid_0's binary_logloss: 0.230747\n",
      "[201]\tvalid_0's binary_logloss: 0.230679\n",
      "[202]\tvalid_0's binary_logloss: 0.230927\n",
      "[203]\tvalid_0's binary_logloss: 0.231053\n",
      "[204]\tvalid_0's binary_logloss: 0.23152\n",
      "[205]\tvalid_0's binary_logloss: 0.23175\n",
      "Early stopping, best iteration is:\n",
      "[105]\tvalid_0's binary_logloss: 0.215313\n",
      "Wall time: 680 ms\n"
     ]
    }
   ],
   "source": [
    "%%time\n",
    "print('Starting training...')\n",
    "# feature_name and categorical_feature\n",
    "final_model = lgb.train(params,\n",
    "                lgb_train,\n",
    "                num_boost_round=1000,\n",
    "                valid_sets=lgb_eval,  # eval training data\n",
    "                feature_name=feature_name,\n",
    "                categorical_feature=categorical_features_indices.tolist(),\n",
    "                evals_result=evals_result\n",
    "               )"
   ]
  },
  {
   "cell_type": "code",
   "execution_count": null,
   "metadata": {},
   "outputs": [],
   "source": []
  },
  {
   "cell_type": "code",
   "execution_count": 52,
   "metadata": {},
   "outputs": [
    {
     "name": "stdout",
     "output_type": "stream",
     "text": [
      "Feature names: ['age', 'job', 'marital', 'education', 'default', 'balance', 'housing', 'loan', 'contact', 'day', 'month', 'duration', 'campaign', 'pdays', 'previous', 'poutcome']\n",
      "Feature importances: [435, 201, 66, 89, 6, 587, 83, 44, 112, 0, 347, 634, 172, 234, 75, 65]\n"
     ]
    }
   ],
   "source": [
    "# feature names\n",
    "print('Feature names:', final_model.feature_name())\n",
    "\n",
    "# feature importances\n",
    "print('Feature importances:', list(final_model.feature_importance()))"
   ]
  },
  {
   "cell_type": "markdown",
   "metadata": {},
   "source": [
    "feature importance plot"
   ]
  },
  {
   "cell_type": "code",
   "execution_count": 53,
   "metadata": {},
   "outputs": [],
   "source": [
    "if lgb.compat.MATPLOTLIB_INSTALLED:\n",
    "    import matplotlib.pyplot as plt\n",
    "else:\n",
    "    raise ImportError('You need to install matplotlib for plot_example.py.')"
   ]
  },
  {
   "cell_type": "code",
   "execution_count": 54,
   "metadata": {},
   "outputs": [
    {
     "name": "stdout",
     "output_type": "stream",
     "text": [
      "Plotting metrics recorded during training...\n"
     ]
    },
    {
     "data": {
      "image/png": "[encoded data removed]",
      "text/plain": [
       "<Figure size 432x288 with 1 Axes>"
      ]
     },
     "metadata": {
      "needs_background": "light"
     },
     "output_type": "display_data"
    }
   ],
   "source": [
    "print('Plotting metrics recorded during training...')\n",
    "ax = lgb.plot_metric(evals_result, metric='binary_logloss')\n",
    "plt.show()\n"
   ]
  },
  {
   "cell_type": "code",
   "execution_count": 64,
   "metadata": {
    "scrolled": false
   },
   "outputs": [
    {
     "data": {
      "image/png": "[encoded data removed]",
      "text/plain": [
       "<Figure size 1440x720 with 1 Axes>"
      ]
     },
     "metadata": {
      "needs_background": "light"
     },
     "output_type": "display_data"
    }
   ],
   "source": [
    "# more beautiful plot code\n",
    "\n",
    "import matplotlib.pyplot as plt\n",
    "import seaborn as sns\n",
    "import warnings\n",
    "warnings.simplefilter(action='ignore', category=FutureWarning)\n",
    "\n",
    "# sorted(zip(clf.feature_importances_, X.columns), reverse=True)\n",
    "feature_imp = pd.DataFrame(sorted(zip(final_model.feature_importance(),X.columns)), columns=['Value','Feature'])\n",
    "\n",
    "plt.figure(figsize=(20, 10))\n",
    "sns.barplot(x=\"Value\", y=\"Feature\", data=feature_imp.sort_values(by=\"Value\", ascending=False))\n",
    "plt.title('LightGBM Features')\n",
    "plt.tight_layout()\n",
    "plt.show()\n",
    "# plt.savefig('lgbm_importances-01.png')"
   ]
  },
  {
   "cell_type": "markdown",
   "metadata": {},
   "source": [
    "# Test dataset for submission"
   ]
  },
  {
   "cell_type": "code",
   "execution_count": 56,
   "metadata": {},
   "outputs": [],
   "source": [
    "X_test = test"
   ]
  },
  {
   "cell_type": "code",
   "execution_count": 57,
   "metadata": {},
   "outputs": [],
   "source": [
    "predictions_probs = final_model.predict(X_test)\n",
    "# keep probabilities for the positive outcome only\n",
    "pos_probs = predictions_probs"
   ]
  },
  {
   "cell_type": "code",
   "execution_count": 58,
   "metadata": {},
   "outputs": [],
   "source": [
    "import statistics\n",
    "median_predict_value = statistics.median(pos_probs)"
   ]
  },
  {
   "cell_type": "code",
   "execution_count": 59,
   "metadata": {},
   "outputs": [],
   "source": [
    "positive_ratio = 521/(4000+521)"
   ]
  },
  {
   "cell_type": "code",
   "execution_count": 60,
   "metadata": {},
   "outputs": [],
   "source": [
    "threshold = positive_ratio # threshold we set where the probability prediction must be above this to be classified as a '1'\n",
    "classes = predictions_probs.copy() # say it is the class in the second column you care about predictint\n",
    "classes[classes>=threshold] = 1\n",
    "classes[classes<threshold] = 0"
   ]
  },
  {
   "cell_type": "code",
   "execution_count": 61,
   "metadata": {},
   "outputs": [
    {
     "name": "stdout",
     "output_type": "stream",
     "text": [
      "Unique Values :  [0. 1.]\n",
      "Occurrence Count :  [363  64]\n"
     ]
    }
   ],
   "source": [
    "uniqueValues, occurCount = np.unique(classes, return_counts=True)\n",
    " \n",
    "print(\"Unique Values : \" , uniqueValues)\n",
    "print(\"Occurrence Count : \", occurCount)"
   ]
  },
  {
   "cell_type": "code",
   "execution_count": 62,
   "metadata": {
    "scrolled": true
   },
   "outputs": [
    {
     "data": {
      "text/plain": [
       "(427,)"
      ]
     },
     "execution_count": 62,
     "metadata": {},
     "output_type": "execute_result"
    }
   ],
   "source": [
    "pos_probs.shape"
   ]
  },
  {
   "cell_type": "code",
   "execution_count": null,
   "metadata": {},
   "outputs": [],
   "source": []
  },
  {
   "cell_type": "markdown",
   "metadata": {},
   "source": [
    "# Submission file"
   ]
  },
  {
   "cell_type": "code",
   "execution_count": 159,
   "metadata": {},
   "outputs": [],
   "source": [
    "resultdf = pd.DataFrame(columns=['Id', 'y'])"
   ]
  },
  {
   "cell_type": "code",
   "execution_count": 160,
   "metadata": {
    "scrolled": true
   },
   "outputs": [],
   "source": [
    "resultdf['Id'] = test_id\n",
    "resultdf['y'] = classes # pos_probs for probabilities"
   ]
  },
  {
   "cell_type": "code",
   "execution_count": 161,
   "metadata": {},
   "outputs": [],
   "source": [
    "resultdf.to_csv('./output/bank_marketing/submission(lgb auc 0.8578921078921079 on self test threshold=positive ratio).csv',index=False)"
   ]
  },
  {
   "cell_type": "code",
   "execution_count": 83,
   "metadata": {},
   "outputs": [],
   "source": [
    "# submit on https://www.kaggle.com/c/bank-marketing-uci/submissions, public AUC = 0.81013, private AUC = 0.87091"
   ]
  },
  {
   "cell_type": "code",
   "execution_count": null,
   "metadata": {},
   "outputs": [],
   "source": []
  },
  {
   "cell_type": "code",
   "execution_count": null,
   "metadata": {},
   "outputs": [],
   "source": []
  },
  {
   "cell_type": "code",
   "execution_count": null,
   "metadata": {},
   "outputs": [],
   "source": []
  },
  {
   "cell_type": "code",
   "execution_count": null,
   "metadata": {},
   "outputs": [],
   "source": []
  },
  {
   "cell_type": "code",
   "execution_count": null,
   "metadata": {},
   "outputs": [],
   "source": []
  },
  {
   "cell_type": "code",
   "execution_count": null,
   "metadata": {},
   "outputs": [],
   "source": []
  },
  {
   "cell_type": "code",
   "execution_count": null,
   "metadata": {},
   "outputs": [],
   "source": []
  }
 ],
 "metadata": {
  "kernelspec": {
   "display_name": "Python 3",
   "language": "python",
   "name": "python3"
  },
  "language_info": {
   "codemirror_mode": {
    "name": "ipython",
    "version": 3
   },
   "file_extension": ".py",
   "mimetype": "text/x-python",
   "name": "python",
   "nbconvert_exporter": "python",
   "pygments_lexer": "ipython3",
   "version": "3.7.6"
  }
 },
 "nbformat": 4,
 "nbformat_minor": 4
}
